{
 "cells": [
  {
   "cell_type": "code",
   "execution_count": 1,
   "id": "082f5359-5bc7-4f41-8204-38e8ef1fc046",
   "metadata": {},
   "outputs": [],
   "source": [
    "import pandas as pd\n",
    "import numpy as np\n",
    "from matplotlib import pyplot as plt \n",
    "from sys import exit\n",
    "from matplotlib.backends.backend_pdf import PdfPages \n",
    "import matplotlib.dates as mdates\n",
    "import seaborn as sns\n",
    "from calendar import monthrange\n",
    "import datetime\n",
    "from tqdm import tqdm\n",
    "import ast\n",
    "import os\n",
    "from scipy import stats\n",
    "from scipy.optimize import curve_fit\n",
    "pd.options.mode.chained_assignment = None  # default='warn'"
   ]
  },
  {
   "cell_type": "code",
   "execution_count": 2,
   "id": "22707fcb-33a3-4a97-9fc9-e09aa0e2d835",
   "metadata": {},
   "outputs": [],
   "source": [
    "# This is a script copy of \"Script11.py\", ported to JupyterNotebook for ease."
   ]
  },
  {
   "cell_type": "code",
   "execution_count": 3,
   "id": "725fbc1e-fa72-4265-b408-5060c02bbab2",
   "metadata": {},
   "outputs": [],
   "source": [
    "# COLDEST DAY ANALYSIS, Hour in Index, EPC in Columns - drop nan"
   ]
  },
  {
   "cell_type": "code",
   "execution_count": 4,
   "id": "dac9ae69-05d7-4bb1-914e-85d477bb0e40",
   "metadata": {},
   "outputs": [],
   "source": [
    "def GetPropertyDetails(DataRow):\n",
    "    EPCRating = DataRow['House_SAP'].values[0]\n",
    "    FloorArea = DataRow['Total_Floor_Area'].values[0]\n",
    "    Employment = DataRow['EmployType'].values[0]\n",
    "    HouseIncome = DataRow['HouseIncome'].values[0]\n",
    "    Tenure = DataRow['Tenure'].values[0]\n",
    "    HPType = DataRow['HP_Installed'].values[0]\n",
    "    HP_Size_kW = DataRow['HP_Size_kW'].values[0]\n",
    "    Age = DataRow['Participant_Age'].values[0]\n",
    "    JobStatus = DataRow['EmployStatus'].values[0]\n",
    "    Fluid = DataRow['HP_Refrigerant'].values[0]\n",
    "    MCS_SHLoad = DataRow['MCS_SHLoad'].values[0]\n",
    "    MCS_Hloss = DataRow['MCS_Hloss'].values[0]\n",
    "    return(EPCRating,FloorArea,Employment,HouseIncome,Tenure,HPType,HP_Size_kW,Age,JobStatus,Fluid,MCS_SHLoad,MCS_Hloss)\n",
    "#\n",
    "def PlotLimits(Label):\n",
    "    if Label == 'Hourly_Heat_Pump_Power_Consumed':\n",
    "        start,end = 0,5\n",
    "    elif Label == 'Internal_Air_Temperature':\n",
    "        start,end = 10,30\n",
    "    elif Label == 'External_Air_Temperature':\n",
    "        start,end = -15,40          \n",
    "    elif Label == 'Temperature_Makeup':\n",
    "        start,end = -5,35            \n",
    "    elif Label == 'COP_H4':\n",
    "        start,end = 0,5\n",
    "    else:\n",
    "        start,end = 10,30\n",
    "    return(start,end)\n",
    "#\n",
    "def OccuranceAndInstances(Hue,AllList):\n",
    "    TempList = [Hue]\n",
    "    UniqueList = set(AllList)\n",
    "    for items in UniqueList:\n",
    "        Occurence = AllList.count(items)\n",
    "        Vals = f\"{items} occurs {round(Occurence/24,1)} times ## \"\n",
    "        TempList.append(Vals)\n",
    "    return(TempList)\n",
    "#\n",
    "def GetPolyCoefficients(XValues,YValues):\n",
    "    coeff_A1,YIntercpt_A1 = np.polyfit(XValues,YValues,deg=1) # linear plot\n",
    "    LinearFit = coeff_A1*X + YIntercpt_A1\n",
    "    coeff_B1,coeff_B2,YIntercptB = np.polyfit(XValues,YValues,deg=2) # polynominal plot.\n",
    "    PolyFit = coeff_B1*X*X + coeff_B2*X + YIntercptB\n",
    "    return(LinearFit,coeff_A1,YIntercpt_A1,PolyFit,coeff_B1,coeff_B2,YIntercptB)"
   ]
  },
  {
   "cell_type": "code",
   "execution_count": 5,
   "id": "8a3cd418-139b-4ffc-b3d9-deb128db88e4",
   "metadata": {},
   "outputs": [],
   "source": [
    "LogFile = open(\"3.Methodology/HPDemonstrationProject/LogFile_ColdestDay.Log\",mode=\"w\")"
   ]
  },
  {
   "cell_type": "code",
   "execution_count": 6,
   "id": "c3edc96e-d879-4851-a91d-31577780d52a",
   "metadata": {},
   "outputs": [
    {
     "name": "stdout",
     "output_type": "stream",
     "text": [
      "Reading Complete, now extracting ...\n"
     ]
    }
   ],
   "source": [
    "DataTable = pd.DataFrame(columns=['Property_ID','Year','Month','Day','Hour','Hourly_Heat_Pump_Power_Consumed','Internal_Air_Temperature','External_Air_Temperature',\n",
    "                                  'Temperature_Makeup','COP_H4','EPCRating','Employment','HouseIncome','Tenure','HPType','HP_Size_kW','Age','JobStatus','HP_Refrigerant','MCS_Characteristics'])\n",
    "\n",
    "PropDesignTbl = pd.read_csv(\"../Data/UK Data Service/Electrification of Heat Demonstration Project 2020-2022/BEIS Electrification of Heat Project - Property, Design and Installation Information.csv\")\n",
    "SummaryTable = pd.read_csv(\"../Data/UK Data Service/Electrification of Heat Demonstration Project 2020-2022/BEIS Electrification of Heat Project - Interim Heat Pump Performance Data Summary.csv\")\n",
    "MasterDF = pd.read_csv(\"../Data/UK Data Service/Electrification of Heat Demonstration Project 2020-2022/Resampled_60min/000MasterTable_60min.csv\",index_col='Unnamed: 0')\n",
    "Summ_ColdestDay = SummaryTable.loc[(SummaryTable['Included_SPF_analysis'] == True) & (SummaryTable['Included_coldest_day_analysis'] == True)]\n",
    "Summ_ColdestDay['Coldest_day_start']= pd.to_datetime(Summ_ColdestDay['Coldest_day_start'])\n",
    "ValidPropertyIDs = Summ_ColdestDay['Property_ID'].tolist()\n",
    "ColdestDay = Summ_ColdestDay['Coldest_day_start'].tolist()\n",
    "#\n",
    "#\n",
    "print(\"Reading Complete, now extracting ...\")\n",
    "for propID, dates in zip(ValidPropertyIDs,ColdestDay):\n",
    "    PropertyLine = PropDesignTbl.loc[(PropDesignTbl['Property_ID'] == propID)].copy()\n",
    "    EPCRating,FloorArea,Employment,HouseIncome,Tenure,HPType,HP_Size_kW,Age,JobStatus,Fluid,MCS_SHLoad,MCS_Hloss = GetPropertyDetails(PropertyLine)\n",
    "    #\n",
    "    Year,Month,Day = dates.year, dates.month, dates.day\n",
    "    ColdestDay = MasterDF.loc[(MasterDF['Property_ID'] == propID) & (MasterDF['Year'] == Year) & (MasterDF['Month'] == Month) & (MasterDF['Day'] == Day)].copy()\n",
    "    for Hour in range(0,24):\n",
    "        DataList = []\n",
    "        #\n",
    "        DataHour = ColdestDay.loc[(ColdestDay['Hour'] == Hour)]\n",
    "        HPPower,InterAirTemp,ExtAirTemp,TempMakeUp,COP_H4 = float('nan'),float('nan'),float('nan'),float('nan'),float('nan')\n",
    "        if (DataHour['Hourly_Heat_Pump_Power_Consumed'].any()) == True:\n",
    "            HPPower = round(DataHour['Hourly_Heat_Pump_Power_Consumed'].values[0],3)\n",
    "            InterAirTemp = round(DataHour['Internal_Air_Temperature'].values[0],3)\n",
    "            ExtAirTemp = round(DataHour['External_Air_Temperature'].values[0],3)\n",
    "            TempMakeUp = round(DataHour['Temperature_Makeup'].values[0],3)\n",
    "            COP_H4 = round(DataHour['COP_H4'].values[0],3)\n",
    "            MCS_Character = DataHour['MCS_Characteristics'].values[0]\n",
    "        DataList.extend([propID,Year,Month,Day,Hour,HPPower,InterAirTemp,ExtAirTemp,TempMakeUp,COP_H4,EPCRating,Employment,HouseIncome,Tenure,HPType,HP_Size_kW,Age,JobStatus,Fluid,MCS_Character])\n",
    "        DataTable.loc[len(DataTable), DataTable.columns] = (DataList)\n",
    "DataTable.to_csv(\"3.Methodology/HPDemonstrationProject/DataTable.csv\") "
   ]
  },
  {
   "cell_type": "code",
   "execution_count": 7,
   "id": "2fec5a4d-3a4e-42e8-99c1-48b02fa0f3bb",
   "metadata": {},
   "outputs": [
    {
     "name": "stderr",
     "output_type": "stream",
     "text": [
      "Winter ## Hourly_Heat_Pump_Power_Consumed ## Plotting ...: 100%|██████████| 9/9 [00:03<00:00,  2.43it/s]\n",
      "Winter ## Internal_Air_Temperature ## Plotting ...: 100%|██████████| 9/9 [00:05<00:00,  1.72it/s]\n",
      "Winter ## External_Air_Temperature ## Plotting ...: 100%|██████████| 9/9 [00:07<00:00,  1.18it/s]\n",
      "Winter ## Temperature_Makeup ## Plotting ...: 100%|██████████| 9/9 [00:10<00:00,  1.11s/it]\n",
      "Winter ## COP_H4 ## Plotting ...: 100%|██████████| 9/9 [00:12<00:00,  1.38s/it]\n",
      "Summer ## Hourly_Heat_Pump_Power_Consumed ## Plotting ...: 100%|██████████| 9/9 [00:02<00:00,  3.48it/s]\n",
      "Summer ## Internal_Air_Temperature ## Plotting ...: 100%|██████████| 9/9 [00:04<00:00,  2.06it/s]\n",
      "Summer ## External_Air_Temperature ## Plotting ...: 100%|██████████| 9/9 [00:07<00:00,  1.23it/s]\n",
      "Summer ## Temperature_Makeup ## Plotting ...: 100%|██████████| 9/9 [00:08<00:00,  1.05it/s]\n",
      "Summer ## COP_H4 ## Plotting ...: 100%|██████████| 9/9 [00:11<00:00,  1.25s/it]\n",
      "Spring ## Hourly_Heat_Pump_Power_Consumed ## Plotting ...: 100%|██████████| 9/9 [00:03<00:00,  2.54it/s]\n",
      "Spring ## Internal_Air_Temperature ## Plotting ...: 100%|██████████| 9/9 [00:05<00:00,  1.69it/s]\n",
      "Spring ## External_Air_Temperature ## Plotting ...: 100%|██████████| 9/9 [00:07<00:00,  1.28it/s]\n",
      "Spring ## Temperature_Makeup ## Plotting ...: 100%|██████████| 9/9 [00:10<00:00,  1.18s/it]\n",
      "Spring ## COP_H4 ## Plotting ...: 100%|██████████| 9/9 [00:11<00:00,  1.31s/it]\n",
      "Autumn ## Hourly_Heat_Pump_Power_Consumed ## Plotting ...: 100%|██████████| 9/9 [00:03<00:00,  2.89it/s]\n",
      "Autumn ## Internal_Air_Temperature ## Plotting ...: 100%|██████████| 9/9 [00:05<00:00,  1.80it/s]\n",
      "Autumn ## External_Air_Temperature ## Plotting ...: 100%|██████████| 9/9 [00:07<00:00,  1.14it/s]\n",
      "Autumn ## Temperature_Makeup ## Plotting ...: 100%|██████████| 9/9 [00:09<00:00,  1.06s/it]\n",
      "Autumn ## COP_H4 ## Plotting ...: 100%|██████████| 9/9 [00:12<00:00,  1.41s/it]\n"
     ]
    }
   ],
   "source": [
    "print(\"########### SEASONAL DATA ###########\",file=LogFile)\n",
    "Seasons = ['Winter','Summer','Spring','Autumn']\n",
    "Parameters = ['Hourly_Heat_Pump_Power_Consumed','Internal_Air_Temperature','External_Air_Temperature','Temperature_Makeup','COP_H4']\n",
    "HueVarients = ['EPCRating','MCS_Characteristics','JobStatus','Employment','HouseIncome','Tenure','HPType','HP_Size_kW','HP_Refrigerant']\n",
    "for Season in Seasons:\n",
    "    plt.figure(figsize=(100,30))\n",
    "    fignums_1 = 1\n",
    "    SasonalDF = MasterDF.loc[(MasterDF['Seasons'] == Season)]\n",
    "    for Param in Parameters:\n",
    "        for Hue in tqdm(HueVarients,desc=f\"{Season} ## {Param} ## Plotting ...\"):\n",
    "            if Param == Parameters[0]: # Only on the first one - rest will just be a repeat.\n",
    "                data = SasonalDF[Hue].tolist()\n",
    "                returndata = OccuranceAndInstances(Hue,data)\n",
    "                print(f\"{Season} ## {Param} ## {returndata}\",file=LogFile)\n",
    "            StartLim,EndLim = PlotLimits(Param)\n",
    "            PvtTable = pd.pivot_table(SasonalDF, values=Param, index=['Hour'],columns=Hue,aggfunc='mean')\n",
    "            plt.subplot(len(Parameters),len(HueVarients),fignums_1)\n",
    "            plt.title(f'{Season} ## Fig no:{fignums_1} = #{Param}# with varients of #{Hue}#.')\n",
    "            sns.lineplot(PvtTable,dashes=False,linewidth=1,markers=True)\n",
    "            plt.ylabel(Param)\n",
    "            plt.ylim(StartLim,EndLim)\n",
    "            plt.xticks(range(0,24,2))\n",
    "            plt.grid(which='both',linewidth = 0.5)\n",
    "            plt.tight_layout() \n",
    "            fignums_1 += 1\n",
    "    plt.savefig(f\"3.Methodology/HPDemonstrationProject/1_{Season}_SesonalAnalysis.png\")\n",
    "#MasterDF = 0    # Releasing memory usage.\n",
    "#SasonalDF = 0   # Releasing memory usage.\n",
    "plt.close('all')"
   ]
  },
  {
   "cell_type": "code",
   "execution_count": 21,
   "id": "cc7271a8-020b-49e9-8bc3-28690db463ba",
   "metadata": {},
   "outputs": [
    {
     "data": {
      "text/plain": [
       "EPCRating\n",
       "A    3.297817\n",
       "B    2.898577\n",
       "C    2.989854\n",
       "D    3.030289\n",
       "E    2.811295\n",
       "F    3.165598\n",
       "dtype: float64"
      ]
     },
     "execution_count": 21,
     "metadata": {},
     "output_type": "execute_result"
    }
   ],
   "source": [
    "MasterDF = pd.read_csv(\"../Data/UK Data Service/Electrification of Heat Demonstration Project 2020-2022/Resampled_60min/000MasterTable_60min.csv\",index_col='Unnamed: 0')\n",
    "SasonalDF = MasterDF.loc[(MasterDF['Seasons'] == 'Winter')]\n",
    "PvtTable = pd.pivot_table(SasonalDF, values='COP_H4', index=['Hour'],columns='EPCRating',aggfunc='mean')\n",
    "PvtTable.mean()"
   ]
  },
  {
   "cell_type": "code",
   "execution_count": 8,
   "id": "2af6eed1-4da8-45be-a2fc-9d152cf8dda1",
   "metadata": {},
   "outputs": [
    {
     "name": "stderr",
     "output_type": "stream",
     "text": [
      "Coldest Day ## Hourly_Heat_Pump_Power_Consumed ## Plotting ...: 100%|██████████| 9/9 [00:02<00:00,  3.32it/s]\n",
      "Coldest Day ## Internal_Air_Temperature ## Plotting ...: 100%|██████████| 9/9 [00:05<00:00,  1.52it/s]\n",
      "Coldest Day ## External_Air_Temperature ## Plotting ...: 100%|██████████| 9/9 [00:08<00:00,  1.03it/s]\n",
      "Coldest Day ## Temperature_Makeup ## Plotting ...: 100%|██████████| 9/9 [00:11<00:00,  1.32s/it]\n",
      "Coldest Day ## COP_H4 ## Plotting ...: 100%|██████████| 9/9 [00:13<00:00,  1.54s/it]\n"
     ]
    }
   ],
   "source": [
    "print(\"\\n\\n########### COLDEST DAY ###########\",file=LogFile)\n",
    "DataTable = pd.read_csv(\"3.Methodology/HPDemonstrationProject/DataTable.csv\",index_col='Unnamed: 0')\n",
    "plt.figure(figsize=(100,30))\n",
    "fignums_2 = 1\n",
    "for Param in Parameters:\n",
    "    for Hue in tqdm(HueVarients,desc=f\"Coldest Day ## {Param} ## Plotting ...\"):\n",
    "        if fignums_2 < len(HueVarients):\n",
    "            data = DataTable[Hue].tolist()\n",
    "            returndata = OccuranceAndInstances(Hue,data)\n",
    "            print(returndata,file=LogFile)\n",
    "        #\n",
    "        StartLim,EndLim = PlotLimits(Param)\n",
    "        PvtTable = pd.pivot_table(DataTable, values=Param, index=['Hour'],columns=Hue,aggfunc='mean')\n",
    "        plt.subplot(len(Parameters),len(HueVarients),fignums_2)\n",
    "        plt.title(f'Fig no:{fignums_2} = #{Param}# with varients of #{Hue}#.')\n",
    "        sns.lineplot(PvtTable,dashes=False,linewidth=1,markers=True)\n",
    "        plt.ylabel(Param)\n",
    "        plt.ylim(StartLim,EndLim)\n",
    "        plt.xticks(range(0,24,2))\n",
    "        plt.grid(which='both',linewidth = 0.5)\n",
    "        plt.tight_layout() \n",
    "        fignums_2 += 1\n",
    "plt.savefig(\"3.Methodology/HPDemonstrationProject/2_ColdestDayAnalysis.png\")\n",
    "plt.close('all')"
   ]
  },
  {
   "cell_type": "code",
   "execution_count": 9,
   "id": "16043b45-cc9c-4d81-b0c7-a93ac55d3e5e",
   "metadata": {},
   "outputs": [],
   "source": [
    "X = np.arange(0,40)\n",
    "ASHPCOP = 4.08-0.09*X+0.0008*X*X\n",
    "#\n",
    "plt.figure(figsize=(16,9))\n",
    "DataTable.dropna(subset = ['Temperature_Makeup', 'COP_H4'],inplace=True)\n",
    "XValues = DataTable[\"Temperature_Makeup\"]\n",
    "YValues = DataTable[\"COP_H4\"]\n",
    "plt.title('Coldest day COP performance.')\n",
    "sns.scatterplot(DataTable,x=\"Temperature_Makeup\",y=\"COP_H4\",size=0.05,legend=False,linewidth=0)\n",
    "sns.lineplot(x=X, y=ASHPCOP, color = 'red',label='Initial Guess = 4.08-0.09*X+0.0008*X*X',linewidth=5)\n",
    "LinearFit,coeff_A1,YIntercpt_A1,PolyFit,coeff_B1,coeff_B2,YIntercptB = GetPolyCoefficients(XValues,YValues)\n",
    "sns.lineplot(x=X,y=LinearFit, color='black',label=f'Linear = ({round(coeff_A1,4)}*X + {round(YIntercpt_A1,4)})',linewidth=5)\n",
    "sns.lineplot(x=X,y=PolyFit, color='purple',label=f'Poly = ({round(coeff_B1,4)}*X*X + {round(coeff_B2,4)}*X + {round(YIntercptB,3)})',linewidth=5)\n",
    "plt.grid(which='both',linewidth = 0.5)\n",
    "plt.tight_layout() \n",
    "plt.savefig(\"3.Methodology/HPDemonstrationProject/2_ColdestDayAnalysis_COP.png\")\n",
    "plt.close('all')\n",
    "#\n",
    "LogFile.close()\n",
    "DataTable = 0    # Releasing memory usage."
   ]
  },
  {
   "cell_type": "code",
   "execution_count": null,
   "id": "0220efcd-9363-4128-a85b-ecf19507c395",
   "metadata": {},
   "outputs": [],
   "source": []
  },
  {
   "cell_type": "code",
   "execution_count": null,
   "id": "458656ac-31f1-40db-8647-716c6c32a493",
   "metadata": {},
   "outputs": [],
   "source": []
  }
 ],
 "metadata": {
  "kernelspec": {
   "display_name": "Python 3 (ipykernel)",
   "language": "python",
   "name": "python3"
  },
  "language_info": {
   "codemirror_mode": {
    "name": "ipython",
    "version": 3
   },
   "file_extension": ".py",
   "mimetype": "text/x-python",
   "name": "python",
   "nbconvert_exporter": "python",
   "pygments_lexer": "ipython3",
   "version": "3.10.9"
  }
 },
 "nbformat": 4,
 "nbformat_minor": 5
}
