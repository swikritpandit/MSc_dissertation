{
 "cells": [
  {
   "cell_type": "code",
   "execution_count": 1,
   "id": "3dc5d0b4-2c1e-496c-8757-23bd40985be7",
   "metadata": {},
   "outputs": [],
   "source": [
    "from elexon import ElexonRawClient\n",
    "from calendar import monthrange\n",
    "import datetime\n",
    "import pandas as pd\n",
    "from tabulate import tabulate\n",
    "from tqdm import tqdm\n",
    "from sys import exit"
   ]
  },
  {
   "cell_type": "code",
   "execution_count": 2,
   "id": "3f95854a-851e-4cb1-8620-7f2e79fb57f1",
   "metadata": {},
   "outputs": [],
   "source": [
    "# Large Volume and Price\n",
    "# Market Index Price and Volume.\n",
    "# System Buy - Price and Volume."
   ]
  },
  {
   "cell_type": "code",
   "execution_count": 3,
   "id": "edb4a3ec-6385-442e-ba0f-084cfee48de5",
   "metadata": {},
   "outputs": [],
   "source": [
    "api = ElexonRawClient(api_key='syfypqvxf8hb7b9',api_service_type ='xml') # available for free from the Elexon Portalprint"
   ]
  },
  {
   "cell_type": "code",
   "execution_count": 4,
   "id": "dc282c31-9602-4391-a60a-86534eb915a6",
   "metadata": {},
   "outputs": [
    {
     "name": "stdout",
     "output_type": "stream",
     "text": [
      "32.6 £/MWh -203.1194 MWh.\n",
      "[{'timeSeriesID': 'ELX-EMFIP-IMBP-TS-1', 'businessType': 'Balance energy deviation', 'controlArea': '10YGB----------A', 'settlementDate': datetime.date(2019, 3, 31), 'settlementPeriod': 46, 'imbalancePriceAmountGBP': 32.6, 'priceCategory': 'Insufficient balance', 'curveType': 'Sequential fixed size block', 'resolution': 'PT30M', 'documentType': 'Imbalance prices', 'processType': 'Realised', 'activeFlag': True, 'docStatus': 'Final', 'documentID': 'ELX-EMFIP-IMBP-20572247', 'documentRevNum': 1}, {'timeSeriesID': 'ELX-EMFIP-IMBP-TS-2', 'businessType': 'Balance energy deviation', 'controlArea': '10YGB----------A', 'settlementDate': datetime.date(2019, 3, 31), 'settlementPeriod': 46, 'imbalancePriceAmountGBP': 32.6, 'priceCategory': 'Excess balance', 'curveType': 'Sequential fixed size block', 'resolution': 'PT30M', 'documentType': 'Imbalance prices', 'processType': 'Realised', 'activeFlag': True, 'docStatus': 'Final', 'documentID': 'ELX-EMFIP-IMBP-20572247', 'documentRevNum': 1}]\n"
     ]
    }
   ],
   "source": [
    "# Year = 2019\n",
    "# Month = '03'\n",
    "# Day = '31'\n",
    "# Per = 46\n",
    "# Date = f\"{Year}-{Month}-{Day}\"\n",
    "# ImbalancePrice, ImbalanceVolume = None, None\n",
    "# try:\n",
    "#     ImbalancePrice = api.request('B1770',SettlementDate=Date,Period=Per)\n",
    "#     ImbalanceVolume = api.request('B1780',SettlementDate=Date,Period=Per)\n",
    "#     ImbPrice = ImbalancePrice[0]['imbalancePriceAmountGBP'] # System Buy/Sell Price\n",
    "#     ImbVolume = ImbalanceVolume[0]['imbalanceQuantityMAW'] # System Buy/Sell Volume MWh\n",
    "#     print(f\"{ImbPrice} £/MWh {ImbVolume} MWh.\")\n",
    "# except:\n",
    "#     pass"
   ]
  },
  {
   "cell_type": "code",
   "execution_count": 7,
   "id": "ca83521a-dcc8-4fdf-8dcc-1e81e09a5bf6",
   "metadata": {},
   "outputs": [
    {
     "name": "stderr",
     "output_type": "stream",
     "text": [
      "2024-03-31 ## Per 50: 100%|██████████| 1/1 [09:17<00:00, 557.37s/it]\n"
     ]
    }
   ],
   "source": [
    "SystemDataTable = pd.DataFrame(columns=['Settlement Date','Settlement Period','System Sell Price(GBP/MWh)','Net Imbalance Volume(MWh)'])\n",
    "Years = tqdm(range(2014,2024+1))\n",
    "for Year in Years:\n",
    "    for Month in range(1,12+1):\n",
    "        Days = monthrange(Year,Month)[1]\n",
    "        for Day in range(1,Days+1):\n",
    "            MonthStr = str(Month).zfill(2)\n",
    "            DayStr = str(Day).zfill(2)\n",
    "            DateString = f\"{Year}-{MonthStr}-{DayStr}\"\n",
    "            Date = f\"{Day}/{Month}/{Year}\"\n",
    "            for Per in range(1,50+1):\n",
    "                PerStr = str(Per).zfill(2)\n",
    "                Years.set_description(f'{Year}-{MonthStr}-{DayStr} ## Per {PerStr}')\n",
    "                DataList = []\n",
    "                ImbalancePrice, ImbalanceVolume = None, None\n",
    "                try:\n",
    "                    ImbalancePrice = api.request('B1770',SettlementDate=DateString,Period=Per)\n",
    "                    ImbalanceVolume = api.request('B1780',SettlementDate=DateString,Period=Per)\n",
    "                    ImbPrice = ImbalancePrice[0]['imbalancePriceAmountGBP'] # System Buy/Sell Price\n",
    "                    ImbVolume = ImbalanceVolume[0]['imbalanceQuantityMAW'] # System Buy/Sell Volume MWh\n",
    "                    DataList.extend([Date,Per,ImbPrice,ImbVolume])\n",
    "                    SystemDataTable.loc[len(SystemDataTable), SystemDataTable.columns] = (DataList)\n",
    "                except:\n",
    "                    pass\n",
    "SystemDataTable.to_csv(\"SystemBuySellData2024.csv\",index=False)"
   ]
  },
  {
   "cell_type": "code",
   "execution_count": null,
   "id": "df054a9d-b5b8-4e53-9b02-bdff34980d28",
   "metadata": {},
   "outputs": [],
   "source": []
  }
 ],
 "metadata": {
  "kernelspec": {
   "display_name": "Python 3 (ipykernel)",
   "language": "python",
   "name": "python3"
  },
  "language_info": {
   "codemirror_mode": {
    "name": "ipython",
    "version": 3
   },
   "file_extension": ".py",
   "mimetype": "text/x-python",
   "name": "python",
   "nbconvert_exporter": "python",
   "pygments_lexer": "ipython3",
   "version": "3.10.9"
  }
 },
 "nbformat": 4,
 "nbformat_minor": 5
}
