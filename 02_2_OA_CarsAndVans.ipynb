{
 "cells": [
  {
   "cell_type": "code",
   "execution_count": 1,
   "id": "d1ca1b9c-2141-4884-8fbc-5fa8bfed96c7",
   "metadata": {},
   "outputs": [],
   "source": [
    "import pandas as pd\n",
    "import numpy as np\n",
    "from tqdm import tqdm\n",
    "from matplotlib import pyplot as plt\n",
    "import seaborn as sns\n",
    "import geopandas as gpd\n",
    "import gc"
   ]
  },
  {
   "cell_type": "code",
   "execution_count": 2,
   "id": "563a05ba-74d9-499b-b8b6-95ec845e3663",
   "metadata": {},
   "outputs": [],
   "source": [
    "Data = pd.read_csv(\"./Source/CarOR_VanAvailability_OA_AnalysisCombined.csv\",index_col=['PowerLiftRatio,Perc','Output Areas'])\n",
    "# CSV file taken from 'https://www.ons.gov.uk/datasets/TS045/editions/2021/versions/4/filter-outputs/21f5ef3b-68bf-44ee-b610-f654febc6e8d#get-data'"
   ]
  },
  {
   "cell_type": "code",
   "execution_count": 3,
   "id": "e2e97274-701f-4dff-b71c-d70781d61a7c",
   "metadata": {},
   "outputs": [
    {
     "name": "stdout",
     "output_type": "stream",
     "text": [
      "<class 'pandas.core.frame.DataFrame'>\n",
      "MultiIndex: 6799680 entries, (100, 'E00000001') to (170, 'W00010697')\n",
      "Data columns (total 11 columns):\n",
      " #   Column                               Dtype  \n",
      "---  ------                               -----  \n",
      " 0   1 car or van in household            int64  \n",
      " 1   2 cars or vans in household          int64  \n",
      " 2   3 or more cars or vans in household  int64  \n",
      " 3   No cars or vans in household         int64  \n",
      " 4   TotalHousehold                       int64  \n",
      " 5   TotalCars                            int64  \n",
      " 6   PowerProfile_kWe                     object \n",
      " 7   NumberOfCars                         object \n",
      " 8   TotalCarsCharged                     float64\n",
      " 9   EV_SufficiencyFlag                   object \n",
      " 10  EV_ChargingPenetrationRate           float64\n",
      "dtypes: float64(2), int64(6), object(3)\n",
      "memory usage: 7.5 GB\n"
     ]
    }
   ],
   "source": [
    "Data.info(memory_usage='deep')"
   ]
  },
  {
   "cell_type": "code",
   "execution_count": 4,
   "id": "b633e098-9d95-4b68-bc17-6f8da569c331",
   "metadata": {},
   "outputs": [],
   "source": [
    "DropColumns = ['1 car or van in household', '2 cars or vans in household','3 or more cars or vans in household', 'No cars or vans in household',\n",
    "                'TotalHousehold', 'TotalCars', 'PowerProfile_kWe', 'NumberOfCars','TotalCarsCharged', 'EV_SufficiencyFlag']\n",
    "Data.drop(columns=DropColumns,inplace=True)"
   ]
  },
  {
   "cell_type": "code",
   "execution_count": 5,
   "id": "5176e67b-bafe-421b-bffb-ac0b5873951a",
   "metadata": {},
   "outputs": [
    {
     "name": "stdout",
     "output_type": "stream",
     "text": [
      "<class 'pandas.core.frame.DataFrame'>\n",
      "MultiIndex: 6799680 entries, (100, 'E00000001') to (170, 'W00010697')\n",
      "Data columns (total 1 columns):\n",
      " #   Column                      Dtype  \n",
      "---  ------                      -----  \n",
      " 0   EV_ChargingPenetrationRate  float64\n",
      "dtypes: float64(1)\n",
      "memory usage: 100.2 MB\n"
     ]
    }
   ],
   "source": [
    "Data.info(memory_usage='deep')"
   ]
  },
  {
   "cell_type": "code",
   "execution_count": 6,
   "id": "6d407ebd-8d63-4840-91ad-2a576e97fe34",
   "metadata": {},
   "outputs": [
    {
     "data": {
      "text/plain": [
       "0"
      ]
     },
     "execution_count": 6,
     "metadata": {},
     "output_type": "execute_result"
    }
   ],
   "source": [
    "gc.collect()"
   ]
  },
  {
   "cell_type": "code",
   "execution_count": 7,
   "id": "694bfaeb-b8a2-4581-9b91-acc6e63a7f01",
   "metadata": {
    "tags": []
   },
   "outputs": [
    {
     "data": {
      "text/html": [
       "<div>\n",
       "<style scoped>\n",
       "    .dataframe tbody tr th:only-of-type {\n",
       "        vertical-align: middle;\n",
       "    }\n",
       "\n",
       "    .dataframe tbody tr th {\n",
       "        vertical-align: top;\n",
       "    }\n",
       "\n",
       "    .dataframe thead th {\n",
       "        text-align: right;\n",
       "    }\n",
       "</style>\n",
       "<table border=\"1\" class=\"dataframe\">\n",
       "  <thead>\n",
       "    <tr style=\"text-align: right;\">\n",
       "      <th></th>\n",
       "      <th>OA_21_Code</th>\n",
       "      <th>geometry</th>\n",
       "    </tr>\n",
       "  </thead>\n",
       "  <tbody>\n",
       "    <tr>\n",
       "      <th>0</th>\n",
       "      <td>E00000001</td>\n",
       "      <td>POLYGON ((532303.492 181814.110, 532301.242 18...</td>\n",
       "    </tr>\n",
       "    <tr>\n",
       "      <th>1</th>\n",
       "      <td>E00000003</td>\n",
       "      <td>POLYGON ((532213.378 181846.192, 532213.954 18...</td>\n",
       "    </tr>\n",
       "    <tr>\n",
       "      <th>2</th>\n",
       "      <td>E00000005</td>\n",
       "      <td>POLYGON ((532180.131 181763.020, 532177.000 18...</td>\n",
       "    </tr>\n",
       "    <tr>\n",
       "      <th>3</th>\n",
       "      <td>E00000007</td>\n",
       "      <td>POLYGON ((532201.292 181668.180, 532205.000 18...</td>\n",
       "    </tr>\n",
       "    <tr>\n",
       "      <th>4</th>\n",
       "      <td>E00000010</td>\n",
       "      <td>POLYGON ((532127.958 182133.192, 532106.413 18...</td>\n",
       "    </tr>\n",
       "  </tbody>\n",
       "</table>\n",
       "</div>"
      ],
      "text/plain": [
       "  OA_21_Code                                           geometry\n",
       "0  E00000001  POLYGON ((532303.492 181814.110, 532301.242 18...\n",
       "1  E00000003  POLYGON ((532213.378 181846.192, 532213.954 18...\n",
       "2  E00000005  POLYGON ((532180.131 181763.020, 532177.000 18...\n",
       "3  E00000007  POLYGON ((532201.292 181668.180, 532205.000 18...\n",
       "4  E00000010  POLYGON ((532127.958 182133.192, 532106.413 18..."
      ]
     },
     "execution_count": 7,
     "metadata": {},
     "output_type": "execute_result"
    }
   ],
   "source": [
    "SHAPEFILE = \"./ShapeFiles/Output_Areas_2021_EW_BFC_V8_8958595138613564964/OA_2021_EW_BFC_V8.shp\"\n",
    "GeoDF = gpd.read_file(SHAPEFILE)[['OA21CD','geometry']]\n",
    "GeoDF.columns = ['OA_21_Code','geometry']\n",
    "GeoDF.head()"
   ]
  },
  {
   "cell_type": "code",
   "execution_count": 8,
   "id": "a27d58bd-24b9-44c0-bd37-72edbebfc52f",
   "metadata": {},
   "outputs": [
    {
     "name": "stdout",
     "output_type": "stream",
     "text": [
      "<class 'geopandas.geodataframe.GeoDataFrame'>\n",
      "RangeIndex: 188880 entries, 0 to 188879\n",
      "Data columns (total 2 columns):\n",
      " #   Column      Non-Null Count   Dtype   \n",
      "---  ------      --------------   -----   \n",
      " 0   OA_21_Code  188880 non-null  object  \n",
      " 1   geometry    188880 non-null  geometry\n",
      "dtypes: geometry(1), object(1)\n",
      "memory usage: 13.3 MB\n"
     ]
    }
   ],
   "source": [
    "GeoDF.info(memory_usage='deep')"
   ]
  },
  {
   "cell_type": "code",
   "execution_count": 9,
   "id": "f5cf7534-4c9f-49e5-8ee9-f77e7ae19e5c",
   "metadata": {},
   "outputs": [
    {
     "data": {
      "text/plain": [
       "0"
      ]
     },
     "execution_count": 9,
     "metadata": {},
     "output_type": "execute_result"
    }
   ],
   "source": [
    "gc.collect()"
   ]
  },
  {
   "cell_type": "code",
   "execution_count": 10,
   "id": "9f56255d-abe3-40a9-96fd-38875666599a",
   "metadata": {
    "tags": []
   },
   "outputs": [],
   "source": [
    "def PlotFigure(DF,UpLift):\n",
    "    Title = f'EV charging penetration OA\\nPower Uplift of +{UpLift-100}%.'\n",
    "    col = 'EV_ChargingPenetrationRate'\n",
    "    cmap = 'RdYlGn'\n",
    "    fig, ax = plt.subplots(1,figsize=(9,16),dpi=1000)\n",
    "    ax.axis('off')\n",
    "    DF.plot(column=col, ax=ax, edgecolor='white', linewidth=0.01, cmap=cmap)\n",
    "    ax.set_title(Title, fontdict={'fontsize': '14', 'fontweight': '3'})# Add a title\n",
    "    sm = plt.cm.ScalarMappable(norm=plt.Normalize(vmin=0, vmax=100), cmap=cmap)# Create colorbar as a legend\n",
    "    # Empty array for the data range\n",
    "    sm._A = []\n",
    "    cbaxes = fig.add_axes([0.18,0.35,0.02,0.2])\n",
    "    cbar = fig.colorbar(sm, cax=cbaxes)\n",
    "    plt.savefig(f\"./Pictures/EV_Charging_Penetration_OA_{UpLift}.png\")\n",
    "    plt.close('all')\n",
    "    gc.collect()"
   ]
  },
  {
   "cell_type": "code",
   "execution_count": 11,
   "id": "f92f8c41-9cfd-406c-8991-a90f90ce5ad3",
   "metadata": {},
   "outputs": [],
   "source": [
    "PowerLifts = set()\n",
    "for item in Data.index:\n",
    "    PowerLifts.add(item[0])\n",
    "PowerLifts = sorted(PowerLifts)"
   ]
  },
  {
   "cell_type": "code",
   "execution_count": 13,
   "id": "d5c1fa64-d690-4c4a-88ee-e0d9b2430ece",
   "metadata": {},
   "outputs": [
    {
     "name": "stderr",
     "output_type": "stream",
     "text": [
      "100%|████████████████████████████████████████████████████████████████████| 7/7 [07:53<00:00, 67.65s/it]\n"
     ]
    }
   ],
   "source": [
    "gc.collect()\n",
    "for ChargeUpLift in tqdm(PowerLifts[4::5]):\n",
    "    SelectedData = Data.loc[ChargeUpLift].reset_index()\n",
    "    MergedDF = pd.merge(left=GeoDF, right=SelectedData, how='left', left_on='OA_21_Code', right_on='Output Areas')\n",
    "    MergedDF.drop(columns=['Output Areas'],inplace=True)\n",
    "    PlotFigure(MergedDF,ChargeUpLift)\n",
    "    gc.collect()"
   ]
  },
  {
   "cell_type": "code",
   "execution_count": null,
   "id": "f138fe1c-3709-4f74-93b8-77ea6c85be1c",
   "metadata": {},
   "outputs": [],
   "source": []
  }
 ],
 "metadata": {
  "kernelspec": {
   "display_name": "Python 3 (ipykernel)",
   "language": "python",
   "name": "python3"
  },
  "language_info": {
   "codemirror_mode": {
    "name": "ipython",
    "version": 3
   },
   "file_extension": ".py",
   "mimetype": "text/x-python",
   "name": "python",
   "nbconvert_exporter": "python",
   "pygments_lexer": "ipython3",
   "version": "3.9.13"
  }
 },
 "nbformat": 4,
 "nbformat_minor": 5
}
