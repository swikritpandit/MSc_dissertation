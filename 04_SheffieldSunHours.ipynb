{
 "cells": [
  {
   "cell_type": "code",
   "execution_count": 2,
   "id": "5bd87266-cea9-4008-bc5b-8b6705c91b8f",
   "metadata": {},
   "outputs": [],
   "source": [
    "from elexon import ElexonRawClient\n",
    "from calendar import monthrange\n",
    "import datetime\n",
    "import numpy as np\n",
    "import pandas as pd\n",
    "from tabulate import tabulate\n",
    "from tqdm import tqdm\n",
    "from sys import exit\n",
    "from tqdm import tqdm\n",
    "import os\n",
    "from matplotlib import pyplot as plt\n",
    "import seaborn as sns\n",
    "from matplotlib.colors import LinearSegmentedColormap\n",
    "from matplotlib.backends.backend_pdf import PdfPages\n",
    "import warnings\n",
    "warnings.filterwarnings(\"ignore\")"
   ]
  },
  {
   "cell_type": "code",
   "execution_count": 3,
   "id": "b7ca9c59-1a99-48e4-ac31-e58b3b4ca4fe",
   "metadata": {},
   "outputs": [
    {
     "name": "stdout",
     "output_type": "stream",
     "text": [
      "<class 'str'>\n"
     ]
    }
   ],
   "source": [
    "A = 2234\n",
    "b = str(A)\n",
    "c = str(b)\n",
    "print(type(c))"
   ]
  },
  {
   "cell_type": "code",
   "execution_count": null,
   "id": "e58ec115-e34e-4f56-a7cc-826a611428c7",
   "metadata": {},
   "outputs": [],
   "source": []
  },
  {
   "cell_type": "code",
   "execution_count": 8,
   "id": "817fb279-50dc-4d0d-b22d-a908df0cdacb",
   "metadata": {},
   "outputs": [],
   "source": [
    "HourlyDF = pd.read_csv(\"0.DataSource/National Demand/df_fuel_ckan_DemandPriceTemp_Hourly.csv\")\n",
    "HourlyDF['DATETIME'] = pd.to_datetime(HourlyDF['DATETIME'])\n",
    "HourlyDF['Year'],HourlyDF['Month'],HourlyDF['Day'],HourlyDF['WeekNumber'],HourlyDF['DaysOfTheYear'],\\\n",
    "    HourlyDF['DayOfTheWeek'],HourlyDF['Hour'] = HourlyDF['DATETIME'].dt.year,\\\n",
    "    HourlyDF['DATETIME'].dt.month,HourlyDF['DATETIME'].dt.day,HourlyDF['DATETIME'].dt.isocalendar().week,\\\n",
    "    HourlyDF['DATETIME'].dt.dayofyear,HourlyDF['DATETIME'].dt.dayofweek,HourlyDF['DATETIME'].dt.hour"
   ]
  },
  {
   "cell_type": "code",
   "execution_count": 5,
   "id": "088d12de-401c-4507-bd8a-bce06a4bd683",
   "metadata": {},
   "outputs": [
    {
     "data": {
      "text/html": [
       "<div>\n",
       "<style scoped>\n",
       "    .dataframe tbody tr th:only-of-type {\n",
       "        vertical-align: middle;\n",
       "    }\n",
       "\n",
       "    .dataframe tbody tr th {\n",
       "        vertical-align: top;\n",
       "    }\n",
       "\n",
       "    .dataframe thead th {\n",
       "        text-align: right;\n",
       "    }\n",
       "</style>\n",
       "<table border=\"1\" class=\"dataframe\">\n",
       "  <thead>\n",
       "    <tr style=\"text-align: right;\">\n",
       "      <th></th>\n",
       "      <th>Year</th>\n",
       "      <th>Month</th>\n",
       "      <th>SunHours</th>\n",
       "    </tr>\n",
       "  </thead>\n",
       "  <tbody>\n",
       "    <tr>\n",
       "      <th>0</th>\n",
       "      <td>2009</td>\n",
       "      <td>1</td>\n",
       "      <td>59.8</td>\n",
       "    </tr>\n",
       "    <tr>\n",
       "      <th>1</th>\n",
       "      <td>2009</td>\n",
       "      <td>2</td>\n",
       "      <td>60.5</td>\n",
       "    </tr>\n",
       "    <tr>\n",
       "      <th>2</th>\n",
       "      <td>2009</td>\n",
       "      <td>3</td>\n",
       "      <td>161.7</td>\n",
       "    </tr>\n",
       "    <tr>\n",
       "      <th>3</th>\n",
       "      <td>2009</td>\n",
       "      <td>4</td>\n",
       "      <td>142.3</td>\n",
       "    </tr>\n",
       "    <tr>\n",
       "      <th>4</th>\n",
       "      <td>2009</td>\n",
       "      <td>5</td>\n",
       "      <td>216.0</td>\n",
       "    </tr>\n",
       "    <tr>\n",
       "      <th>...</th>\n",
       "      <td>...</td>\n",
       "      <td>...</td>\n",
       "      <td>...</td>\n",
       "    </tr>\n",
       "    <tr>\n",
       "      <th>179</th>\n",
       "      <td>2023</td>\n",
       "      <td>12</td>\n",
       "      <td>31.5</td>\n",
       "    </tr>\n",
       "    <tr>\n",
       "      <th>180</th>\n",
       "      <td>2024</td>\n",
       "      <td>1</td>\n",
       "      <td>54.9</td>\n",
       "    </tr>\n",
       "    <tr>\n",
       "      <th>181</th>\n",
       "      <td>2024</td>\n",
       "      <td>2</td>\n",
       "      <td>42.0</td>\n",
       "    </tr>\n",
       "    <tr>\n",
       "      <th>182</th>\n",
       "      <td>2024</td>\n",
       "      <td>3</td>\n",
       "      <td>75.6</td>\n",
       "    </tr>\n",
       "    <tr>\n",
       "      <th>183</th>\n",
       "      <td>2024</td>\n",
       "      <td>4</td>\n",
       "      <td>100.7</td>\n",
       "    </tr>\n",
       "  </tbody>\n",
       "</table>\n",
       "<p>184 rows × 3 columns</p>\n",
       "</div>"
      ],
      "text/plain": [
       "     Year  Month  SunHours\n",
       "0    2009      1      59.8\n",
       "1    2009      2      60.5\n",
       "2    2009      3     161.7\n",
       "3    2009      4     142.3\n",
       "4    2009      5     216.0\n",
       "..    ...    ...       ...\n",
       "179  2023     12      31.5\n",
       "180  2024      1      54.9\n",
       "181  2024      2      42.0\n",
       "182  2024      3      75.6\n",
       "183  2024      4     100.7\n",
       "\n",
       "[184 rows x 3 columns]"
      ]
     },
     "execution_count": 5,
     "metadata": {},
     "output_type": "execute_result"
    }
   ],
   "source": [
    "SunHoursDF = pd.read_csv(\"0.DataSource/SheffieldDayLightHours.csv\") # Monthly SunHours from Sheffield ## https://www.metoffice.gov.uk/pub/data/weather/uk/climate/stationdata/sheffielddata.txt\n",
    "SunHoursDF"
   ]
  },
  {
   "cell_type": "code",
   "execution_count": 11,
   "id": "b864854b-e8c1-4abe-9fab-997d71563078",
   "metadata": {},
   "outputs": [
    {
     "data": {
      "text/plain": [
       "Index(['DATETIME', 'MC_StartingVolume', 'SBP(GBP/MWh)', 'SSP(GBP/MWh)',\n",
       "       'MID_APX_VOLUME(MWh)', 'MID_APX_PRICE(GBP/MWh)', 'MID_N2EX_VOLUME(MWh)',\n",
       "       'MID_N2EX_PRICE(GBP/MWh)', 'SSP_(GBP/MWh)', 'NIV(MWh)',\n",
       "       'NordPool_HH_Vol(MWh)', 'NordPool_HH_Price(GBP/MWh)',\n",
       "       'NordPool_DA_H_Vol(MWh)', 'NordPool_DA_H_Price(GBP/MWh)',\n",
       "       'Air_Temperature', 'GAS', 'COAL', 'NUCLEAR', 'WIND', 'HYDRO', 'IMPORTS',\n",
       "       'BIOMASS', 'OTHER', 'SOLAR', 'STORAGE', 'GENERATION',\n",
       "       'CARBON_INTENSITY', 'LOW_CARBON', 'ZERO_CARBON', 'RENEWABLE', 'FOSSIL',\n",
       "       'GAS_perc', 'COAL_perc', 'NUCLEAR_perc', 'WIND_perc', 'HYDRO_perc',\n",
       "       'IMPORTS_perc', 'BIOMASS_perc', 'OTHER_perc', 'SOLAR_perc',\n",
       "       'STORAGE_perc', 'GENERATION_perc', 'LOW_CARBON_perc',\n",
       "       'ZERO_CARBON_perc', 'RENEWABLE_perc', 'FOSSIL_perc', 'NATIONAL DEMAND',\n",
       "       'TRANSMISSION_SYSTEM_DEMAND', 'ENGLAND_WALES_DEMAND',\n",
       "       'EMBEDDED_WIND_GENERATION', 'EMBEDDED_WIND_CAPACITY',\n",
       "       'EMBEDDED_SOLAR_GENERATION', 'EMBEDDED_SOLAR_CAPACITY', 'NON_BM_STOR',\n",
       "       'PUMP_STORAGE_PUMPING', 'SCOTTISH_TRANSFER', 'NET_INTCONNECTOR_FLOW',\n",
       "       'IFA_FLOW', 'IFA2_FLOW', 'BRITNED_FLOW', 'MOYLE_FLOW', 'EAST_WEST_FLOW',\n",
       "       'NEMO_FLOW', 'NSL_FLOW', 'ELECLINK_FLOW', 'VIKING_FLOW', 'Year',\n",
       "       'Month', 'Day', 'WeekNumber', 'DaysOfTheYear', 'DayOfTheWeek', 'Hour'],\n",
       "      dtype='object')"
      ]
     },
     "execution_count": 11,
     "metadata": {},
     "output_type": "execute_result"
    }
   ],
   "source": [
    "HourlyDF.columns"
   ]
  },
  {
   "cell_type": "code",
   "execution_count": 16,
   "id": "e6495d8a-8093-4554-9225-b2daa44586e7",
   "metadata": {},
   "outputs": [],
   "source": [
    "def ApplySunHours(Year,Month):\n",
    "    SunHours = SunHoursDF.loc[(SunHoursDF[\"Year\"] == Year) & (SunHoursDF[\"Month\"] == Month)][\"SunHours\"].values[0]\n",
    "    return SunHours"
   ]
  },
  {
   "cell_type": "code",
   "execution_count": 19,
   "id": "0fcb29c8-000a-4d27-8d80-1e11ec2b06a9",
   "metadata": {},
   "outputs": [],
   "source": [
    "HourlyDF['SunHours'] = np.vectorize(ApplySunHours)(HourlyDF['Year'], HourlyDF['Month'])\n",
    "#HourlyDF['SunHours'] = HourlyDF[['Year','Month']].apply(lambda HourlyDF: ApplySunHours(HourlyDF['Year'],HourlyDF['Month']),axis=1)"
   ]
  },
  {
   "cell_type": "code",
   "execution_count": 47,
   "id": "1bcaba02-7033-4404-b812-0ea5fec824e8",
   "metadata": {},
   "outputs": [
    {
     "ename": "NameError",
     "evalue": "name 'HourlyDF2018' is not defined",
     "output_type": "error",
     "traceback": [
      "\u001b[1;31m---------------------------------------------------------------------------\u001b[0m",
      "\u001b[1;31mNameError\u001b[0m                                 Traceback (most recent call last)",
      "Cell \u001b[1;32mIn[47], line 1\u001b[0m\n\u001b[1;32m----> 1\u001b[0m \u001b[43mHourlyDF2018\u001b[49m\n",
      "\u001b[1;31mNameError\u001b[0m: name 'HourlyDF2018' is not defined"
     ]
    }
   ],
   "source": [
    "HourlyDF2018"
   ]
  },
  {
   "cell_type": "code",
   "execution_count": 15,
   "id": "5315f70a-4024-460d-8fb2-284034738541",
   "metadata": {},
   "outputs": [
    {
     "data": {
      "text/plain": [
       "78.4"
      ]
     },
     "execution_count": 15,
     "metadata": {},
     "output_type": "execute_result"
    }
   ],
   "source": [
    "SunHours = SunHoursDF.loc[(SunHoursDF[\"Year\"] == 2023) & (SunHoursDF[\"Month\"] == 1)][\"SunHours\"].values[0]"
   ]
  },
  {
   "cell_type": "code",
   "execution_count": 46,
   "id": "7006d100-855b-466e-b0b6-9189c6dfe146",
   "metadata": {},
   "outputs": [
    {
     "data": {
      "text/html": [
       "<div>\n",
       "<style scoped>\n",
       "    .dataframe tbody tr th:only-of-type {\n",
       "        vertical-align: middle;\n",
       "    }\n",
       "\n",
       "    .dataframe tbody tr th {\n",
       "        vertical-align: top;\n",
       "    }\n",
       "\n",
       "    .dataframe thead th {\n",
       "        text-align: right;\n",
       "    }\n",
       "</style>\n",
       "<table border=\"1\" class=\"dataframe\">\n",
       "  <thead>\n",
       "    <tr style=\"text-align: right;\">\n",
       "      <th></th>\n",
       "      <th>SunDuration</th>\n",
       "    </tr>\n",
       "    <tr>\n",
       "      <th>DateTime</th>\n",
       "      <th></th>\n",
       "    </tr>\n",
       "  </thead>\n",
       "  <tbody>\n",
       "    <tr>\n",
       "      <th>2009-01-31</th>\n",
       "      <td>59.8</td>\n",
       "    </tr>\n",
       "    <tr>\n",
       "      <th>2009-02-28</th>\n",
       "      <td>60.5</td>\n",
       "    </tr>\n",
       "    <tr>\n",
       "      <th>2009-03-31</th>\n",
       "      <td>161.7</td>\n",
       "    </tr>\n",
       "    <tr>\n",
       "      <th>2009-04-30</th>\n",
       "      <td>142.3</td>\n",
       "    </tr>\n",
       "    <tr>\n",
       "      <th>2009-05-31</th>\n",
       "      <td>216.0</td>\n",
       "    </tr>\n",
       "    <tr>\n",
       "      <th>...</th>\n",
       "      <td>...</td>\n",
       "    </tr>\n",
       "    <tr>\n",
       "      <th>2022-08-31</th>\n",
       "      <td>0.0</td>\n",
       "    </tr>\n",
       "    <tr>\n",
       "      <th>2022-09-30</th>\n",
       "      <td>60.1</td>\n",
       "    </tr>\n",
       "    <tr>\n",
       "      <th>2022-10-31</th>\n",
       "      <td>113.4</td>\n",
       "    </tr>\n",
       "    <tr>\n",
       "      <th>2022-11-30</th>\n",
       "      <td>37.7</td>\n",
       "    </tr>\n",
       "    <tr>\n",
       "      <th>2022-12-31</th>\n",
       "      <td>54.6</td>\n",
       "    </tr>\n",
       "  </tbody>\n",
       "</table>\n",
       "<p>168 rows × 1 columns</p>\n",
       "</div>"
      ],
      "text/plain": [
       "            SunDuration\n",
       "DateTime               \n",
       "2009-01-31         59.8\n",
       "2009-02-28         60.5\n",
       "2009-03-31        161.7\n",
       "2009-04-30        142.3\n",
       "2009-05-31        216.0\n",
       "...                 ...\n",
       "2022-08-31          0.0\n",
       "2022-09-30         60.1\n",
       "2022-10-31        113.4\n",
       "2022-11-30         37.7\n",
       "2022-12-31         54.6\n",
       "\n",
       "[168 rows x 1 columns]"
      ]
     },
     "execution_count": 46,
     "metadata": {},
     "output_type": "execute_result"
    }
   ],
   "source": [
    "SunHoursDF1 = pd.read_csv(\"0.DataSource/SheffieldSunObservation/SunShineDuration_Sheffield.csv\") # Monthly SunHours from Sheffield ## https://www.metoffice.gov.uk/pub/data/weather/uk/climate/stationdata/sheffielddata.txt\n",
    "SunHoursDF1['DateTime'] = pd.to_datetime(SunHoursDF1['DateTime'],format=\"%d/%m/%Y %H:%M\")\n",
    "SunHoursDF1 = SunHoursDF1.resample('M', on='DateTime').sum()\n",
    "SunHoursDF1"
   ]
  },
  {
   "cell_type": "code",
   "execution_count": null,
   "id": "e24f4cd9-887e-4135-bad0-f791e0019828",
   "metadata": {},
   "outputs": [],
   "source": [
    "# genDemand = pd.read_csv(\"0.DataSource/National Demand/df_fuel_ckan_WithDemand.csv\")\n",
    "# genDemand['DATETIME'] = pd.to_datetime(genDemand['DATETIME'])\n",
    "# genDemand = genDemand.resample('60min', on='DATETIME').mean()\n",
    "# genDemand.to_csv(\"0.DataSource/National Demand/df_fuel_ckan_WithDemand_Hourly_SSP.csv\")\n",
    "# genDemand"
   ]
  },
  {
   "cell_type": "code",
   "execution_count": 24,
   "id": "36fbd183-b3a5-4fd9-a3a7-47dd100dea54",
   "metadata": {},
   "outputs": [
    {
     "data": {
      "text/html": [
       "<div>\n",
       "<style scoped>\n",
       "    .dataframe tbody tr th:only-of-type {\n",
       "        vertical-align: middle;\n",
       "    }\n",
       "\n",
       "    .dataframe tbody tr th {\n",
       "        vertical-align: top;\n",
       "    }\n",
       "\n",
       "    .dataframe thead th {\n",
       "        text-align: right;\n",
       "    }\n",
       "</style>\n",
       "<table border=\"1\" class=\"dataframe\">\n",
       "  <thead>\n",
       "    <tr style=\"text-align: right;\">\n",
       "      <th></th>\n",
       "      <th>Year</th>\n",
       "      <th>Month</th>\n",
       "      <th>SunHours</th>\n",
       "    </tr>\n",
       "  </thead>\n",
       "  <tbody>\n",
       "    <tr>\n",
       "      <th>0</th>\n",
       "      <td>2009</td>\n",
       "      <td>1</td>\n",
       "      <td>59.8</td>\n",
       "    </tr>\n",
       "    <tr>\n",
       "      <th>1</th>\n",
       "      <td>2009</td>\n",
       "      <td>2</td>\n",
       "      <td>60.5</td>\n",
       "    </tr>\n",
       "    <tr>\n",
       "      <th>2</th>\n",
       "      <td>2009</td>\n",
       "      <td>3</td>\n",
       "      <td>161.7</td>\n",
       "    </tr>\n",
       "    <tr>\n",
       "      <th>3</th>\n",
       "      <td>2009</td>\n",
       "      <td>4</td>\n",
       "      <td>142.3</td>\n",
       "    </tr>\n",
       "    <tr>\n",
       "      <th>4</th>\n",
       "      <td>2009</td>\n",
       "      <td>5</td>\n",
       "      <td>216.0</td>\n",
       "    </tr>\n",
       "    <tr>\n",
       "      <th>...</th>\n",
       "      <td>...</td>\n",
       "      <td>...</td>\n",
       "      <td>...</td>\n",
       "    </tr>\n",
       "    <tr>\n",
       "      <th>179</th>\n",
       "      <td>2023</td>\n",
       "      <td>12</td>\n",
       "      <td>31.5</td>\n",
       "    </tr>\n",
       "    <tr>\n",
       "      <th>180</th>\n",
       "      <td>2024</td>\n",
       "      <td>1</td>\n",
       "      <td>54.9</td>\n",
       "    </tr>\n",
       "    <tr>\n",
       "      <th>181</th>\n",
       "      <td>2024</td>\n",
       "      <td>2</td>\n",
       "      <td>42.0</td>\n",
       "    </tr>\n",
       "    <tr>\n",
       "      <th>182</th>\n",
       "      <td>2024</td>\n",
       "      <td>3</td>\n",
       "      <td>75.6</td>\n",
       "    </tr>\n",
       "    <tr>\n",
       "      <th>183</th>\n",
       "      <td>2024</td>\n",
       "      <td>4</td>\n",
       "      <td>100.7</td>\n",
       "    </tr>\n",
       "  </tbody>\n",
       "</table>\n",
       "<p>184 rows × 3 columns</p>\n",
       "</div>"
      ],
      "text/plain": [
       "     Year  Month  SunHours\n",
       "0    2009      1      59.8\n",
       "1    2009      2      60.5\n",
       "2    2009      3     161.7\n",
       "3    2009      4     142.3\n",
       "4    2009      5     216.0\n",
       "..    ...    ...       ...\n",
       "179  2023     12      31.5\n",
       "180  2024      1      54.9\n",
       "181  2024      2      42.0\n",
       "182  2024      3      75.6\n",
       "183  2024      4     100.7\n",
       "\n",
       "[184 rows x 3 columns]"
      ]
     },
     "execution_count": 24,
     "metadata": {},
     "output_type": "execute_result"
    }
   ],
   "source": [
    "SunHoursDF"
   ]
  },
  {
   "cell_type": "code",
   "execution_count": null,
   "id": "60ecbe6d-c524-4f58-a2e0-a930c9b77262",
   "metadata": {},
   "outputs": [],
   "source": []
  },
  {
   "cell_type": "code",
   "execution_count": null,
   "id": "075f91c8-933b-4d26-83b2-89baf94560b0",
   "metadata": {},
   "outputs": [],
   "source": []
  }
 ],
 "metadata": {
  "kernelspec": {
   "display_name": "Python 3 (ipykernel)",
   "language": "python",
   "name": "python3"
  },
  "language_info": {
   "codemirror_mode": {
    "name": "ipython",
    "version": 3
   },
   "file_extension": ".py",
   "mimetype": "text/x-python",
   "name": "python",
   "nbconvert_exporter": "python",
   "pygments_lexer": "ipython3",
   "version": "3.10.9"
  }
 },
 "nbformat": 4,
 "nbformat_minor": 5
}
