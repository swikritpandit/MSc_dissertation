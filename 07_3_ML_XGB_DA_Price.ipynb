{
 "cells": [
  {
   "cell_type": "code",
   "execution_count": 1,
   "id": "161d9dc2-c846-4ca4-a067-e49511e55cdd",
   "metadata": {},
   "outputs": [],
   "source": [
    "import pandas as pd\n",
    "import numpy as np\n",
    "from matplotlib import pyplot as plt \n",
    "import seaborn as sns\n",
    "from tabulate import tabulate\n",
    "from datetime import date, datetime, timedelta\n",
    "import holidays \n",
    "import xgboost as xgb\n",
    "from sklearn.metrics import mean_squared_error, mean_absolute_percentage_error"
   ]
  },
  {
   "cell_type": "code",
   "execution_count": 2,
   "id": "d709107c-85e1-43c0-aa91-93ee96120a49",
   "metadata": {},
   "outputs": [],
   "source": [
    "Month = {1:'January',2:'February',3:'March',4:'April',5:'May',6:'June',\n",
    "         7:'July',8:'August',9:'September',10:'October',11:'November',12:'December'}\n",
    "Seasons = {1:'Winter',2:'Winter',3:'Spring',4:'Spring',5:'Spring',6:'Summer',\n",
    "         7:'Summer',8:'Summer',9:'Autumn',10:'Autumn',11:'Autumn',12:'Winter'}\n",
    "DayName = {0:'Monday',1:'Tuesday',2:'Wednesday',3:'Thursday',4:'Friday',5:'Saturday',6:'Sunday'}\n",
    "WeekDayWeekend = {0:'Weekday',1:'Weekday',2:'Weekday',3:'Weekday',4:'Weekday',5:'WeekEnd',6:'WeekEnd'}\n",
    "MonthlyDaylight = {1:8.4,2:10.1,3:11.9,4:14.0,5:15.7,6:16.7,\\\n",
    "                   7:16.2,8:14.7,9:12.7,10:10.8,11:8.9,12:7.9} # SOURCE: https://www.worlddata.info/europe/united-kingdom/sunset.php"
   ]
  },
  {
   "cell_type": "code",
   "execution_count": 3,
   "id": "84eea4fb-8899-4c06-97e0-3174468c73b2",
   "metadata": {},
   "outputs": [],
   "source": [
    "EndYear = 2022\n",
    "AllHolidays = {}\n",
    "for Year in range (2015,EndYear+1):\n",
    "    GBHolidays = holidays.UnitedKingdom(subdiv='ENG',years=Year,observed=False)\\\n",
    "                + holidays.UnitedKingdom(subdiv='SCT',years=Year,observed=False)\\\n",
    "                + holidays.UnitedKingdom(subdiv='WLS',years=Year,observed=False)\n",
    "    #\n",
    "    for days in GBHolidays.items():\n",
    "        AllHolidays[days[0]] = days[1]"
   ]
  },
  {
   "cell_type": "code",
   "execution_count": 4,
   "id": "81d82777-f9df-4976-a5a8-67d64b54c306",
   "metadata": {},
   "outputs": [],
   "source": [
    "# For Hourly\n",
    "HourlyDF = pd.read_csv(\"0.DataSource/National Demand/df_fuel_ckan_DemandPriceTemp_Hourly.csv\")\n",
    "HourlyDF['DATETIME'] = pd.to_datetime(HourlyDF['DATETIME'])\n",
    "HourlyDF['Date'] = pd.to_datetime(HourlyDF['DATETIME']).dt.date\n",
    "HourlyDF = HourlyDF.loc[(HourlyDF['DATETIME'].dt.year >= 2015) & (HourlyDF['DATETIME'].dt.year <= EndYear)]\n",
    "#\n",
    "#\n",
    "HourlyDF['Year'],HourlyDF['Quarter'],HourlyDF['Month'],HourlyDF['Day'],HourlyDF['WeekNumber'],HourlyDF['DaysOfTheYear'],\\\n",
    "    HourlyDF['DayOfTheWeek'],HourlyDF['Hour'] = HourlyDF['DATETIME'].dt.year,HourlyDF['DATETIME'].dt.quarter,\\\n",
    "    HourlyDF['DATETIME'].dt.month,HourlyDF['DATETIME'].dt.day,HourlyDF['DATETIME'].dt.isocalendar().week,\\\n",
    "    HourlyDF['DATETIME'].dt.dayofyear,HourlyDF['DATETIME'].dt.dayofweek,HourlyDF['DATETIME'].dt.hour\n",
    "HourlyDF['Seasons'] = HourlyDF['Month'].map(Seasons)\n",
    "HourlyDF['WeekDay_OR_Weekend'] = HourlyDF['DayOfTheWeek'].map(WeekDayWeekend)\n",
    "HourlyDF['PublicHoliday'] = HourlyDF['Date'].map(AllHolidays)"
   ]
  },
  {
   "cell_type": "code",
   "execution_count": 5,
   "id": "108cc898-633a-499f-9b19-0b593c1f82ce",
   "metadata": {},
   "outputs": [
    {
     "data": {
      "text/plain": [
       "Index(['DATETIME', 'MC_StartingVolume', 'SBP(GBP/MWh)', 'SSP(GBP/MWh)',\n",
       "       'MID_APX_VOLUME(MWh)', 'MID_APX_PRICE(GBP/MWh)', 'MID_N2EX_VOLUME(MWh)',\n",
       "       'MID_N2EX_PRICE(GBP/MWh)', 'SSP_(GBP/MWh)', 'NIV(MWh)',\n",
       "       'NordPool_HH_Vol(MWh)', 'NordPool_HH_Price(GBP/MWh)',\n",
       "       'NordPool_DA_H_Vol(MWh)', 'NordPool_DA_H_Price(GBP/MWh)',\n",
       "       'Air_Temperature', 'GAS', 'COAL', 'NUCLEAR', 'WIND', 'HYDRO', 'IMPORTS',\n",
       "       'BIOMASS', 'OTHER', 'SOLAR', 'STORAGE', 'GENERATION',\n",
       "       'CARBON_INTENSITY', 'LOW_CARBON', 'ZERO_CARBON', 'RENEWABLE', 'FOSSIL',\n",
       "       'GAS_perc', 'COAL_perc', 'NUCLEAR_perc', 'WIND_perc', 'HYDRO_perc',\n",
       "       'IMPORTS_perc', 'BIOMASS_perc', 'OTHER_perc', 'SOLAR_perc',\n",
       "       'STORAGE_perc', 'GENERATION_perc', 'LOW_CARBON_perc',\n",
       "       'ZERO_CARBON_perc', 'RENEWABLE_perc', 'FOSSIL_perc',\n",
       "       'ENGLAND_WALES_DEMAND', 'TRANSMISSION_SYSTEM_DEMAND', 'NATIONAL DEMAND',\n",
       "       'ProfileAPlanB_A2A_0Per_HP_Only_Demand',\n",
       "       'ProfileAPlanB_A2A_0Per_COMBINED Demand',\n",
       "       'ProfileAPlanB_A2A_60Per_HP_Only_Demand',\n",
       "       'ProfileAPlanB_A2A_60Per_COMBINED Demand',\n",
       "       'ProfileAPlanB_A2A_100Per_HP_Only_Demand',\n",
       "       'ProfileAPlanB_A2A_100Per_COMBINED Demand', 'EMBEDDED_WIND_GENERATION',\n",
       "       'EMBEDDED_WIND_CAPACITY', 'EMBEDDED_SOLAR_GENERATION',\n",
       "       'EMBEDDED_SOLAR_CAPACITY', 'NON_BM_STOR', 'PUMP_STORAGE_PUMPING',\n",
       "       'SCOTTISH_TRANSFER', 'NET_INTCONNECTOR_FLOW', 'IFA_FLOW', 'IFA2_FLOW',\n",
       "       'BRITNED_FLOW', 'MOYLE_FLOW', 'EAST_WEST_FLOW', 'NEMO_FLOW', 'NSL_FLOW',\n",
       "       'ELECLINK_FLOW', 'VIKING_FLOW', 'Date', 'Year', 'Quarter', 'Month',\n",
       "       'Day', 'WeekNumber', 'DaysOfTheYear', 'DayOfTheWeek', 'Hour', 'Seasons',\n",
       "       'WeekDay_OR_Weekend', 'PublicHoliday'],\n",
       "      dtype='object')"
      ]
     },
     "execution_count": 5,
     "metadata": {},
     "output_type": "execute_result"
    }
   ],
   "source": [
    "HourlyDF.columns"
   ]
  },
  {
   "cell_type": "code",
   "execution_count": 6,
   "id": "46af040d-fc90-4163-8a07-4ce5a5acd990",
   "metadata": {},
   "outputs": [],
   "source": [
    "Target = \"NordPool_DA_H_Price(GBP/MWh)\"\n",
    "path = './4.Results/1.XGB_Results/3_CV_DA_Price'"
   ]
  },
  {
   "cell_type": "code",
   "execution_count": 7,
   "id": "aa0901d0-a5b1-4856-b837-ad46c7620a7e",
   "metadata": {},
   "outputs": [],
   "source": [
    "SelectedColumns = ['DATETIME',\n",
    "    Target,'Year','Quarter','Month', 'Day','WeekNumber','DaysOfTheYear','DayOfTheWeek','Hour','Seasons','Air_Temperature','WeekDay_OR_Weekend','PublicHoliday',\n",
    "    'CARBON_INTENSITY', 'LOW_CARBON', 'ZERO_CARBON', 'RENEWABLE', 'FOSSIL','GAS_perc', 'COAL_perc', 'NUCLEAR_perc', 'WIND_perc', 'HYDRO_perc',\n",
    "    'IMPORTS_perc', 'BIOMASS_perc', 'OTHER_perc', 'SOLAR_perc','STORAGE_perc', 'GENERATION_perc', 'LOW_CARBON_perc','ZERO_CARBON_perc', 'RENEWABLE_perc', 'FOSSIL_perc','NATIONAL DEMAND',                   \n",
    "                  ]                                                                         # For the model.\n",
    "SelectedDF = HourlyDF[SelectedColumns].copy()"
   ]
  },
  {
   "cell_type": "code",
   "execution_count": 8,
   "id": "bf4a0534-9244-477c-81c0-1e3370f4e37c",
   "metadata": {},
   "outputs": [],
   "source": [
    "TemperaturePercentiles = {}\n",
    "for Year in range(2015,EndYear+1):\n",
    "    YearlyTempvalues = SelectedDF.loc[(SelectedDF[\"Year\"] == Year)]['Air_Temperature']\n",
    "    Val25,Val75 = np.percentile(YearlyTempvalues, [25,75])\n",
    "    TemperaturePercentiles[Year]=[Val25,Val75]"
   ]
  },
  {
   "cell_type": "code",
   "execution_count": 9,
   "id": "426e9511-c542-42ad-9c7f-22757f0a5eba",
   "metadata": {},
   "outputs": [],
   "source": [
    "LogFile = open(f\"{path}/LogFile.log\",mode=\"w\")\n",
    "print(\"=================================================\\nFor Target: \",Target,file=LogFile)"
   ]
  },
  {
   "cell_type": "code",
   "execution_count": 10,
   "id": "5ca34a0a-33c0-4bb7-a9e0-8585b20530a6",
   "metadata": {},
   "outputs": [],
   "source": [
    "SelectedDF['Year'] = SelectedDF['Year'].astype('uint16')\n",
    "SelectedDF['DaysOfTheYear'] = SelectedDF['DaysOfTheYear'].astype('uint16')\n",
    "SelectedDF['Quarter'] = SelectedDF['Quarter'].astype('uint8')\n",
    "SelectedDF['Month'] = SelectedDF['Month'].astype('uint8')\n",
    "SelectedDF['Day'] = SelectedDF['Day'].astype('uint8')\n",
    "SelectedDF['WeekNumber'] = SelectedDF['WeekNumber'].astype('uint8')\n",
    "SelectedDF['DayOfTheWeek'] = SelectedDF['DayOfTheWeek'].astype('uint8')\n",
    "SelectedDF['Hour'] = SelectedDF['Hour'].astype('uint8')\n",
    "SelectedDF = pd.get_dummies(SelectedDF,drop_first=True)\n",
    "SelectedDF = SelectedDF.set_index('DATETIME')\n",
    "SelectedDF = SelectedDF.sort_index()"
   ]
  },
  {
   "cell_type": "code",
   "execution_count": 11,
   "id": "d89f1ead-f751-4d39-bc63-687d3f1cbb3e",
   "metadata": {},
   "outputs": [],
   "source": [
    "# This contains the CrossValidation Stuff"
   ]
  },
  {
   "cell_type": "code",
   "execution_count": 12,
   "id": "872889fb-1972-4f54-bba7-75bebe9ac2dd",
   "metadata": {},
   "outputs": [],
   "source": [
    "from sklearn.model_selection import TimeSeriesSplit\n",
    "numberofsplit = 5\n",
    "TSS = TimeSeriesSplit(n_splits=numberofsplit, test_size=24*365*1, gap=24)"
   ]
  },
  {
   "cell_type": "code",
   "execution_count": 13,
   "id": "0e06f822-9a6b-4920-bd4a-700a308144c0",
   "metadata": {},
   "outputs": [],
   "source": [
    "fig, axs = plt.subplots(numberofsplit, 1, figsize=(15, 2.5*numberofsplit), sharex=True)\n",
    "fold = 0\n",
    "for train_idx, val_idx in TSS.split(SelectedDF):\n",
    "    train = SelectedDF.iloc[train_idx]\n",
    "    test = SelectedDF.iloc[val_idx]\n",
    "    train[Target].plot(ax=axs[fold],label='Training Set',title=f'Cross Validation data Train/Test split {fold+1}.',grid=True,ylabel=Target)\n",
    "    test[Target].plot(ax=axs[fold],label='Test Set',grid=True)\n",
    "    fold += 1\n",
    "plt.tight_layout()\n",
    "plt.savefig(f\"{path}/0_TestingYears.png\")\n",
    "plt.close('all')"
   ]
  },
  {
   "cell_type": "code",
   "execution_count": 14,
   "id": "81f18285-f7cf-4d73-9b22-11cfe0d547ca",
   "metadata": {},
   "outputs": [],
   "source": [
    "# What was it like this hour/day of the week previous 1, 2 and 3 years ago - to give it a bit of a weighting factor.\n",
    "def AddLagsHours(df):\n",
    "    TargetMap = df[Target].to_dict()\n",
    "    df['OneYearLag'] = (df.index - pd.Timedelta('364 days')).map(TargetMap)\n",
    "    df['TwoYearLag'] = (df.index - pd.Timedelta('728 days')).map(TargetMap)\n",
    "    df['ThreeYearLag'] = (df.index - pd.Timedelta('1092 days')).map(TargetMap)\n",
    "    df['FourYearLag'] = (df.index - pd.Timedelta('1456 days')).map(TargetMap)\n",
    "    df['FiveYearLag'] = (df.index - pd.Timedelta('1820 days')).map(TargetMap)\n",
    "    return df"
   ]
  },
  {
   "cell_type": "code",
   "execution_count": 15,
   "id": "9ce79c78-7129-41e9-b157-f68e9952d88a",
   "metadata": {},
   "outputs": [],
   "source": [
    "SelectedDF = AddLagsHours(SelectedDF)"
   ]
  },
  {
   "cell_type": "code",
   "execution_count": 16,
   "id": "a5242130-e744-4125-b8cc-f8e5862e6d59",
   "metadata": {},
   "outputs": [
    {
     "data": {
      "text/plain": [
       "Index(['NordPool_DA_H_Price(GBP/MWh)', 'Year', 'Quarter', 'Month', 'Day',\n",
       "       'WeekNumber', 'DaysOfTheYear', 'DayOfTheWeek', 'Hour',\n",
       "       'Air_Temperature', 'CARBON_INTENSITY', 'LOW_CARBON', 'ZERO_CARBON',\n",
       "       'RENEWABLE', 'FOSSIL', 'GAS_perc', 'COAL_perc', 'NUCLEAR_perc',\n",
       "       'WIND_perc', 'HYDRO_perc', 'IMPORTS_perc', 'BIOMASS_perc', 'OTHER_perc',\n",
       "       'SOLAR_perc', 'STORAGE_perc', 'GENERATION_perc', 'LOW_CARBON_perc',\n",
       "       'ZERO_CARBON_perc', 'RENEWABLE_perc', 'FOSSIL_perc', 'NATIONAL DEMAND',\n",
       "       'Seasons_Spring', 'Seasons_Summer', 'Seasons_Winter',\n",
       "       'WeekDay_OR_Weekend_Weekday', 'PublicHoliday_Christmas Day',\n",
       "       'PublicHoliday_Easter Monday', 'PublicHoliday_Good Friday',\n",
       "       'PublicHoliday_Late Summer Bank Holiday', 'PublicHoliday_May Day',\n",
       "       'PublicHoliday_New Year Holiday', 'PublicHoliday_New Year's Day',\n",
       "       'PublicHoliday_Platinum Jubilee of Elizabeth II',\n",
       "       'PublicHoliday_Spring Bank Holiday', 'PublicHoliday_St. Andrew's Day',\n",
       "       'PublicHoliday_State Funeral of Queen Elizabeth II',\n",
       "       'PublicHoliday_Summer Bank Holiday', 'OneYearLag', 'TwoYearLag',\n",
       "       'ThreeYearLag', 'FourYearLag', 'FiveYearLag'],\n",
       "      dtype='object')"
      ]
     },
     "execution_count": 16,
     "metadata": {},
     "output_type": "execute_result"
    }
   ],
   "source": [
    "SelectedDF.columns"
   ]
  },
  {
   "cell_type": "code",
   "execution_count": 17,
   "id": "547d9209-42b9-4d7c-b8dc-9a3ca65de243",
   "metadata": {},
   "outputs": [],
   "source": [
    "TrainFeatures = ['Year', 'Quarter', 'Month', 'Day', 'WeekNumber',\n",
    "       'DaysOfTheYear', 'DayOfTheWeek', 'Hour', 'Air_Temperature',\n",
    "       'CARBON_INTENSITY', 'LOW_CARBON', 'ZERO_CARBON', 'RENEWABLE', 'FOSSIL',\n",
    "       'GAS_perc', 'COAL_perc', 'NUCLEAR_perc', 'WIND_perc', 'HYDRO_perc',\n",
    "       'IMPORTS_perc', 'BIOMASS_perc', 'OTHER_perc', 'SOLAR_perc',\n",
    "       'STORAGE_perc', 'GENERATION_perc', 'LOW_CARBON_perc',\n",
    "       'ZERO_CARBON_perc', 'RENEWABLE_perc', 'FOSSIL_perc', 'NATIONAL DEMAND',\n",
    "       'Seasons_Spring', 'Seasons_Summer', 'Seasons_Winter',\n",
    "       'WeekDay_OR_Weekend_Weekday', 'PublicHoliday_Christmas Day',\n",
    "       'PublicHoliday_Easter Monday', 'PublicHoliday_Good Friday',\n",
    "       'PublicHoliday_Late Summer Bank Holiday', 'PublicHoliday_May Day',\n",
    "       'PublicHoliday_New Year Holiday', \"PublicHoliday_New Year's Day\",\n",
    "       'PublicHoliday_Platinum Jubilee of Elizabeth II',\n",
    "       'PublicHoliday_Spring Bank Holiday', \"PublicHoliday_St. Andrew's Day\",\n",
    "       'PublicHoliday_State Funeral of Queen Elizabeth II',\n",
    "       'PublicHoliday_Summer Bank Holiday',\n",
    "       'OneYearLag','TwoYearLag', 'ThreeYearLag', 'FourYearLag', 'FiveYearLag',\n",
    "           ]"
   ]
  },
  {
   "cell_type": "code",
   "execution_count": 18,
   "id": "082e9ac8-1675-4fac-91ec-543a44051b93",
   "metadata": {},
   "outputs": [],
   "source": [
    "def Features(regimportance,regNames,TestingYear):\n",
    "    FeatureImportances = pd.DataFrame(data=regimportance,\n",
    "                 index=regNames,\n",
    "                 columns=['Importance'])\n",
    "    FeatureImportances.sort_values('Importance').plot(kind='barh', title=f\"Feature Importance, Target '{Target}'\\nYear {TestingYear}\",legend=False, figsize=(9,16))\n",
    "    plt.grid(which='both',linewidth = 0.5)\n",
    "    plt.tight_layout()\n",
    "    plt.savefig(f\"{path}/1_FeatureImportance_{TestingYear}.png\")\n",
    "    plt.close('all')"
   ]
  },
  {
   "cell_type": "code",
   "execution_count": 19,
   "id": "e31d73af-c9aa-49e0-a231-0cc1d0761022",
   "metadata": {},
   "outputs": [],
   "source": [
    "def PlotTrainingTestSplit (Train,Test,Label):\n",
    "    plt.figure(figsize=(20,5))\n",
    "    sns.lineplot(data=Train,x=Train.index,y=Target,label='Training Set')\n",
    "    sns.lineplot(data=Test,x=Test.index,y=Target,label='Test Set')\n",
    "    plt.title(f\"Plot of the distribution of Training and Test set, Test year ({TestingYear}).\",fontsize=14)\n",
    "    plt.ylabel(Target,fontsize=14)\n",
    "    plt.xlabel('DateTime',fontsize=14)\n",
    "    plt.grid(which='both',linewidth = 0.5)\n",
    "    plt.ylim(0,)\n",
    "    plt.tight_layout()\n",
    "    plt.savefig(f\"{path}/2_SplitOfTrainingTestSet_{TestingYear}.png\")\n",
    "    plt.close('all')"
   ]
  },
  {
   "cell_type": "code",
   "execution_count": 20,
   "id": "0bd0ad65-cdac-4308-87d1-7b5cc794d89e",
   "metadata": {},
   "outputs": [],
   "source": [
    "def Top10MinMaxErrors (Test,TestingYear):\n",
    "    # Calculate top 10 min and max errors.\n",
    "    Test['Error(ABS)'] = np.abs(Test[Target] - Test['PredictedDemand'])\n",
    "    Test['Error'] = Test[Target] - Test['PredictedDemand']\n",
    "    ErrorList = Test['Error'].to_list()\n",
    "    ErrorDict[TestingYear] = ErrorList\n",
    "    Test['Date'] = Test.index.date\n",
    "    Top10 = Test.groupby(['Date'])['Error(ABS)'].mean().sort_values(ascending=False).head(10)\n",
    "    Lowest10 = Test.groupby(['Date'])['Error(ABS)'].mean().sort_values(ascending=False).tail(10)\n",
    "    #print(f\"Worse 10 Error days {TestingYear}:\\n\",Top10,file=LogFile)\n",
    "    #print(f\"Best 10 Error days {TestingYear}:\\n\",Lowest10,'\\n#################################\\n#################################',file=LogFile)\n",
    "    #\n",
    "    HighestDiffDate,HighestDiffDayValue = Top10.index[0], Top10[0]\n",
    "    LowestDiffDate, LowestDiffDayValue = Lowest10.index[-1], Lowest10[-1]\n",
    "    #\n",
    "    HighestOffsetPoint = Test[Test['Date'] == HighestDiffDate]['Error(ABS)'].max()\n",
    "    ActualDemandHighest = Test[(Test['Date'] == HighestDiffDate) & (Test['Error(ABS)'] == HighestOffsetPoint)][Target].values[0]\n",
    "    PredictedDemandHighest = Test[(Test['Date'] == HighestDiffDate) & (Test['Error(ABS)'] == HighestOffsetPoint)]['PredictedDemand'].values[0]\n",
    "    WorseErrorRate = round((ActualDemandHighest-PredictedDemandHighest)*100/ActualDemandHighest,1)\n",
    "    #\n",
    "    LowestOffsetPoint = Test[Test['Date'] == LowestDiffDate]['Error(ABS)'].max()\n",
    "    ActualDemandLowest = Test[(Test['Date'] == LowestDiffDate) & (Test['Error(ABS)'] == LowestOffsetPoint)][Target].values[0]\n",
    "    PredictedDemandLowest = Test[(Test['Date'] == LowestDiffDate) & (Test['Error(ABS)'] == LowestOffsetPoint)]['PredictedDemand'].values[0]\n",
    "    BestErrorRate = round((ActualDemandLowest-PredictedDemandLowest)*100/ActualDemandLowest,1)\n",
    "    #\n",
    "    WorseCaseDF = Test[(Test['Date'] >= HighestDiffDate) & (Test['Date'] <= (HighestDiffDate+timedelta(days=7)))]\n",
    "    BestCaseDF = Test[(Test['Date'] >= LowestDiffDate) & (Test['Date'] <= (LowestDiffDate+timedelta(days=7)))]\n",
    "    #\n",
    "    plt.figure(figsize=(20,5))\n",
    "    plt.subplot(1,2,1)\n",
    "    sns.lineplot(data=WorseCaseDF,x=WorseCaseDF.index,y=Target,label='Real Demand',markers=True)\n",
    "    sns.lineplot(data=WorseCaseDF,x=WorseCaseDF.index,y='PredictedDemand',label='Predicted price',markers=True)\n",
    "    plt.title(f\"Test year: {TestingYear}, Worst predicted day ({HighestDiffDate}) and the following week profile.\\nDay Mean Error: {int(HighestDiffDayValue)}, GBP/MWh ## Maximium hourly error on the day: {int(HighestOffsetPoint)}, GBP/MWh.\\\n",
    "    \\nPeak price:{ActualDemandHighest}, GBP/MWh -- PREDICTED price: {int(PredictedDemandHighest)}, GBP/MWh -- Error: {WorseErrorRate}%.\",fontsize=14)\n",
    "    plt.xlabel(\"Date/Time\",fontsize=14)\n",
    "    plt.ylabel(f\"{Target}, GBP/MWh\",fontsize=14)\n",
    "    plt.grid(which='both',linewidth = 0.5)\n",
    "    plt.axvline(HighestDiffDate+timedelta(days=1), color='red', ls='--')\n",
    "    plt.ylim(0,)\n",
    "    plt.xlim(HighestDiffDate,)\n",
    "    #\n",
    "    plt.subplot(1,2,2)\n",
    "    sns.lineplot(data=BestCaseDF,x=BestCaseDF.index,y=Target,label='Real price',markers=True)\n",
    "    sns.lineplot(data=BestCaseDF,x=BestCaseDF.index,y='PredictedDemand',label='Predicted price',markers=True)\n",
    "    plt.title(f\"Test year: {TestingYear}, Best predicted day ({LowestDiffDate}) and the following week profile.\\nDay Mean Error: {int(LowestDiffDayValue)}, GBP/MWh ## Maximium hourly error on the day: {int(LowestOffsetPoint)}, GBP/MWh.\\\n",
    "    \\nPeak price:{ActualDemandLowest}, GBP/MWh -- PREDICTED price: {int(PredictedDemandLowest)}, GBP/MWh -- Error: {BestErrorRate}%.\",fontsize=14)\n",
    "    plt.xlabel(\"Date/Time\",fontsize=14)\n",
    "    plt.ylabel(f\"{Target}, GBP/MWh\",fontsize=14)\n",
    "    plt.grid(which='both',linewidth = 0.5)\n",
    "    plt.axvline(LowestDiffDate+timedelta(days=1), color='red', ls='--')\n",
    "    plt.ylim(0,)\n",
    "    plt.xlim(LowestDiffDate,)\n",
    "    plt.tight_layout()\n",
    "    plt.savefig(f\"{path}/3_BestandWorstDaysAndWeek_{TestingYear}.png\")\n",
    "    plt.close('all')\n",
    "    #\n",
    "    #\n",
    "    Test['Date'] = pd.to_datetime(Test['Date'])\n",
    "    Test['DaysOfTheYear'] = Test['Date'].dt.dayofyear\n",
    "    Test['Month'] = Test['Date'].dt.month\n",
    "    Test['Seasons'] = Test['Month'].map(Seasons)\n",
    "    CVTable = pd.pivot_table(Test, values='Error', index='DaysOfTheYear')\n",
    "    plt.figure(figsize=(20,5))\n",
    "    plt.subplot(1,3,1)\n",
    "    sns.scatterplot(data=Test,x=Test.index,y='Error',linewidth=0,hue='Seasons')\n",
    "    plt.title(f\"Test year: {TestingYear}, Prediction Error\",fontsize=14)\n",
    "    plt.ylabel(f\"Error, GBP/MWh\\n[{Target}\\nPredictedPrice].\",fontsize=13)\n",
    "    plt.xticks(rotation=90)\n",
    "    plt.axhline(y=0, color='r', linestyle='--')\n",
    "    plt.grid(which='both',linewidth = 0.5)\n",
    "    plt.subplot(1,3,2)\n",
    "    sns.kdeplot(data=CVTable)\n",
    "    plt.title(f\"Test year: {TestingYear}, KDE plot of Prediction Error\",fontsize=14)\n",
    "    plt.xlabel(f\"Error, GBP/MWh\\n[{Target}\\nPredictedPrice].\",fontsize=14)\n",
    "    plt.ylabel(\"Density\",fontsize=14)\n",
    "    plt.grid(which='both',linewidth = 0.5)\n",
    "    plt.subplot(1,3,3)\n",
    "    sns.kdeplot(data=Test,x='Error(ABS)',linewidth=3,color='black',label='RMSE Error',bw_method=0.001)\n",
    "    #plt.xlim(0,10000)\n",
    "    plt.title(f\"Test year: {TestingYear}, KDE plot of RMSE\",fontsize=14)\n",
    "    plt.xlabel(\"RMSE, GBP/MWh\",fontsize=14)\n",
    "    plt.ylabel(\"Density\",fontsize=14)\n",
    "    plt.grid(which='both',linewidth = 0.5)\n",
    "    plt.tight_layout()\n",
    "    plt.savefig(f\"{path}/4_ErrorsPlots_{TestingYear}.png\")\n",
    "    plt.close('all')"
   ]
  },
  {
   "cell_type": "code",
   "execution_count": 21,
   "id": "f4fabc5f-9a8f-4201-871a-0bcfdb8493a9",
   "metadata": {},
   "outputs": [],
   "source": [
    "def TemperatureBasedSeasons(Test,TestingYear):\n",
    "    plt.figure(figsize=(20,5))\n",
    "    plt.subplot(1,2,1)\n",
    "    sns.scatterplot(data=Test,x=Test.index,y='Error',linewidth=0,hue='Seasons',alpha=0.5)\n",
    "    plt.title(f\"{TestingYear} - Prediction Error\",fontsize=14)\n",
    "    plt.ylabel(f\"Error, GBP/MWh\\n[{Target}\\nPredictedPrice].\",fontsize=13)\n",
    "    plt.xticks(rotation=90)\n",
    "    plt.axhline(y=0, color='r', linestyle='--')\n",
    "    plt.grid(which='both',linewidth = 0.5)\n",
    "    plt.legend(loc='best')\n",
    "    #\n",
    "    plt.subplot(1,2,2)\n",
    "    sns.scatterplot(data=Test,x=Test.index,y='Error',linewidth=0,hue='TemperatureBasedSeason',alpha=0.5)\n",
    "    plt.title(f\"{TestingYear} - Prediction Error\",fontsize=14)\n",
    "    plt.ylabel(f\"Error, GBP/MWh\\n[{Target}\\nPredictedPrice].\",fontsize=13)\n",
    "    plt.xticks(rotation=90)\n",
    "    plt.axhline(y=0, color='r', linestyle='--')\n",
    "    plt.grid(which='both',linewidth = 0.5)\n",
    "    plt.legend(loc='best')\n",
    "    plt.tight_layout()\n",
    "    plt.savefig(f\"{path}/5_ComparingTempBasedSeasons_{TestingYear}.png\")\n",
    "    plt.close('all')"
   ]
  },
  {
   "cell_type": "code",
   "execution_count": 22,
   "id": "8cf72ea4-baf1-41e9-b3e4-7d429de4d31b",
   "metadata": {},
   "outputs": [],
   "source": [
    "def TemperatureSeason(Year,Season,Air_Temperature):\n",
    "    Value25,Value75 = TemperaturePercentiles[Year][0],TemperaturePercentiles[Year][1]\n",
    "    if Air_Temperature >= Value75:\n",
    "        return 'Summer'\n",
    "    elif Air_Temperature <= Value25:\n",
    "        return 'Winter'\n",
    "    else:\n",
    "        return Season"
   ]
  },
  {
   "cell_type": "code",
   "execution_count": 23,
   "id": "70aaf384-c7d1-491e-8e50-05f7894a25f9",
   "metadata": {},
   "outputs": [
    {
     "name": "stdout",
     "output_type": "stream",
     "text": [
      "[0]\tvalidation_0-rmse:45.99989\tvalidation_1-rmse:58.00587\n",
      "[100]\tvalidation_0-rmse:18.85472\tvalidation_1-rmse:30.84108\n",
      "[200]\tvalidation_0-rmse:8.68908\tvalidation_1-rmse:21.59401\n",
      "[300]\tvalidation_0-rmse:4.88751\tvalidation_1-rmse:18.37235\n",
      "[400]\tvalidation_0-rmse:3.52316\tvalidation_1-rmse:17.26250\n",
      "[500]\tvalidation_0-rmse:2.98211\tvalidation_1-rmse:16.88342\n",
      "[600]\tvalidation_0-rmse:2.73262\tvalidation_1-rmse:16.76925\n",
      "[700]\tvalidation_0-rmse:2.51411\tvalidation_1-rmse:16.65888\n",
      "[800]\tvalidation_0-rmse:2.34902\tvalidation_1-rmse:16.62458\n",
      "[823]\tvalidation_0-rmse:2.32233\tvalidation_1-rmse:16.63166\n",
      "[0]\tvalidation_0-rmse:49.23113\tvalidation_1-rmse:43.47678\n",
      "[100]\tvalidation_0-rmse:19.64898\tvalidation_1-rmse:12.35365\n",
      "[172]\tvalidation_0-rmse:10.87795\tvalidation_1-rmse:13.47031\n",
      "[0]\tvalidation_0-rmse:48.17714\tvalidation_1-rmse:38.17103\n",
      "[100]\tvalidation_0-rmse:19.07047\tvalidation_1-rmse:16.80798\n",
      "[200]\tvalidation_0-rmse:8.53449\tvalidation_1-rmse:14.73394\n",
      "[227]\tvalidation_0-rmse:7.14382\tvalidation_1-rmse:14.89167\n",
      "[0]\tvalidation_0-rmse:46.65753\tvalidation_1-rmse:156.22488\n",
      "[100]\tvalidation_0-rmse:18.55461\tvalidation_1-rmse:136.18685\n",
      "[200]\tvalidation_0-rmse:8.42185\tvalidation_1-rmse:128.85483\n",
      "[300]\tvalidation_0-rmse:4.94708\tvalidation_1-rmse:126.27410\n",
      "[400]\tvalidation_0-rmse:3.75189\tvalidation_1-rmse:125.37014\n",
      "[500]\tvalidation_0-rmse:3.21918\tvalidation_1-rmse:125.01327\n",
      "[600]\tvalidation_0-rmse:2.95377\tvalidation_1-rmse:124.83845\n",
      "[700]\tvalidation_0-rmse:2.79975\tvalidation_1-rmse:124.76281\n",
      "[800]\tvalidation_0-rmse:2.70201\tvalidation_1-rmse:124.73940\n",
      "[856]\tvalidation_0-rmse:2.64758\tvalidation_1-rmse:124.74586\n",
      "[0]\tvalidation_0-rmse:72.78626\tvalidation_1-rmse:230.67876\n",
      "[100]\tvalidation_0-rmse:30.03094\tvalidation_1-rmse:166.58530\n",
      "[200]\tvalidation_0-rmse:13.82347\tvalidation_1-rmse:153.86279\n",
      "[300]\tvalidation_0-rmse:7.66835\tvalidation_1-rmse:151.36278\n",
      "[400]\tvalidation_0-rmse:5.36761\tvalidation_1-rmse:150.58436\n",
      "[500]\tvalidation_0-rmse:4.45879\tvalidation_1-rmse:149.92148\n",
      "[600]\tvalidation_0-rmse:4.07276\tvalidation_1-rmse:149.76446\n",
      "[635]\tvalidation_0-rmse:3.97065\tvalidation_1-rmse:149.77103\n"
     ]
    }
   ],
   "source": [
    "# Train Using Cross Validation\n",
    "ErrorDict = {}\n",
    "ErrorDF = pd.DataFrame()\n",
    "TSS = TimeSeriesSplit(n_splits=numberofsplit, test_size=24*365*1, gap=24)\n",
    "RMSEscores = {}\n",
    "MAPEscores = {}\n",
    "for train_idx, val_idx in TSS.split(SelectedDF):\n",
    "    Train = SelectedDF.iloc[train_idx].copy()\n",
    "    Test = SelectedDF.iloc[val_idx].copy()\n",
    "    TestingYear = Test.index[0].year\n",
    "    #####################\n",
    "    X_train = Train[TrainFeatures]\n",
    "    y_train = Train[Target]\n",
    "\n",
    "    X_test = Test[TrainFeatures]\n",
    "    y_test = Test[Target]\n",
    "    #####################\n",
    "    reg = xgb.XGBRegressor(base_score=0.5, booster='gbtree',    \n",
    "                           n_estimators=2000,\n",
    "                           early_stopping_rounds=50,\n",
    "                           objective='reg:squarederror',\n",
    "                           max_depth=10,\n",
    "                           learning_rate=0.01)\n",
    "    reg.fit(X_train, y_train, eval_set=[(X_train, y_train), (X_test, y_test)], verbose=100)\n",
    "    Features(reg.feature_importances_,reg.feature_names_in_,TestingYear)      ##>>\n",
    "    y_pred = reg.predict(X_test)\n",
    "    Test['PredictedDemand'] = y_pred\n",
    "    PlotTrainingTestSplit (Train,Test,TestingYear)                            ##>>\n",
    "    Top10MinMaxErrors (Test,TestingYear)                                      ##>>\n",
    "    Test['TemperatureBasedSeason'] = np.vectorize(TemperatureSeason)(Test['Year'], Test['Seasons'],Test['Air_Temperature'])\n",
    "    TemperatureBasedSeasons(Test,TestingYear)\n",
    "    rmsescore = np.sqrt(mean_squared_error(y_test, y_pred))\n",
    "    RMSEscores[f\"Year {TestingYear}\"] = rmsescore\n",
    "    #\n",
    "    mape_score = mean_absolute_percentage_error(y_test, y_pred)   # Mean Absolute percentage error\n",
    "    MAPEscores[f\"Year {TestingYear}\"] = mape_score"
   ]
  },
  {
   "cell_type": "code",
   "execution_count": 24,
   "id": "1586fd45-710c-4ea6-8dcc-b8890b64c7c2",
   "metadata": {},
   "outputs": [
    {
     "name": "stdout",
     "output_type": "stream",
     "text": [
      "+-------------+-------------+-------------+-------------+-------------+\n",
      "|   Year 2018 |   Year 2019 |   Year 2020 |   Year 2021 |   Year 2022 |\n",
      "|-------------+-------------+-------------+-------------+-------------|\n",
      "|     16.6169 |     11.6312 |     14.6772 |     124.739 |     149.748 |\n",
      "+-------------+-------------+-------------+-------------+-------------+\n"
     ]
    }
   ],
   "source": [
    "print('Annual RMSE scores:',file=LogFile)\n",
    "RMSEscores = pd.DataFrame.from_dict([RMSEscores])\n",
    "print(tabulate(RMSEscores, headers='keys', tablefmt=\"psql\",showindex=False),file=LogFile)\n",
    "print(tabulate(RMSEscores, headers='keys', tablefmt=\"psql\",showindex=False))\n",
    "ErrorDF = pd.DataFrame(ErrorDict)"
   ]
  },
  {
   "cell_type": "code",
   "execution_count": 25,
   "id": "24efa549-2fae-4bf1-9d04-4bb22217af59",
   "metadata": {},
   "outputs": [
    {
     "name": "stdout",
     "output_type": "stream",
     "text": [
      "+-------------+-------------+-------------+-------------+-------------+\n",
      "|   Year 2018 |   Year 2019 |   Year 2020 |   Year 2021 |   Year 2022 |\n",
      "|-------------+-------------+-------------+-------------+-------------|\n",
      "|    0.234536 | 3.15709e+13 | 8.71918e+13 | 9.23587e+12 | 1.46539e+14 |\n",
      "+-------------+-------------+-------------+-------------+-------------+\n"
     ]
    }
   ],
   "source": [
    "print('Annual MAPE scores:',file=LogFile)\n",
    "MAPEscores = pd.DataFrame.from_dict([MAPEscores])\n",
    "print(tabulate(MAPEscores, headers='keys', tablefmt=\"psql\",showindex=False),file=LogFile)\n",
    "print(tabulate(MAPEscores, headers='keys', tablefmt=\"psql\",showindex=False))"
   ]
  },
  {
   "cell_type": "code",
   "execution_count": 26,
   "id": "f8cc297f-9ad9-4f76-b63a-c0e6e4650326",
   "metadata": {},
   "outputs": [
    {
     "name": "stdout",
     "output_type": "stream",
     "text": [
      "Completed.\n"
     ]
    }
   ],
   "source": [
    "LogFile.close()\n",
    "print(\"Completed.\")"
   ]
  },
  {
   "cell_type": "code",
   "execution_count": 32,
   "id": "fb40e1e0-3e04-4eac-a107-ad02767e8995",
   "metadata": {},
   "outputs": [
    {
     "data": {
      "image/png": "[encoded data removed]",
      "text/plain": [
       "<Figure size 2000x500 with 2 Axes>"
      ]
     },
     "metadata": {},
     "output_type": "display_data"
    }
   ],
   "source": [
    "plt.figure(figsize=(20,5))\n",
    "plt.subplot(1,2,1)\n",
    "sns.boxplot(ErrorDF,palette='tab10')\n",
    "plt.title(f\"{Target} # Cross Validation # Prediction Error\",fontsize=14)\n",
    "plt.ylabel(f\"Error, GBP/MWh\\n[{Target}\\nPredictedPrice].\",fontsize=13)\n",
    "plt.axhline(y=0, color='r', linestyle='--')\n",
    "plt.grid(which='both',linewidth = 0.5)\n",
    "#\n",
    "plt.subplot(1,2,2)\n",
    "sns.kdeplot(ErrorDF,palette='tab10')\n",
    "plt.title(f\"{Target} # Cross Validation # Prediction Error\",fontsize=14)\n",
    "plt.xlabel(f\"Error, GBP/MWh\\n[{Target}\\nPredictedPrice].\",fontsize=13)\n",
    "plt.grid(which='both',linewidth = 0.5)\n",
    "plt.xlim(-200,300)\n",
    "plt.tight_layout()\n",
    "plt.savefig(f\"{path}/6_CV_Errors.png\")"
   ]
  },
  {
   "cell_type": "code",
   "execution_count": 28,
   "id": "aacdfe1a-143a-432c-9a5b-e6640f021f8e",
   "metadata": {},
   "outputs": [
    {
     "data": {
      "text/html": [
       "<div>\n",
       "<style scoped>\n",
       "    .dataframe tbody tr th:only-of-type {\n",
       "        vertical-align: middle;\n",
       "    }\n",
       "\n",
       "    .dataframe tbody tr th {\n",
       "        vertical-align: top;\n",
       "    }\n",
       "\n",
       "    .dataframe thead th {\n",
       "        text-align: right;\n",
       "    }\n",
       "</style>\n",
       "<table border=\"1\" class=\"dataframe\">\n",
       "  <thead>\n",
       "    <tr style=\"text-align: right;\">\n",
       "      <th></th>\n",
       "      <th>DATETIME</th>\n",
       "      <th>MC_StartingVolume</th>\n",
       "      <th>SBP(GBP/MWh)</th>\n",
       "      <th>SSP(GBP/MWh)</th>\n",
       "      <th>MID_APX_VOLUME(MWh)</th>\n",
       "      <th>MID_APX_PRICE(GBP/MWh)</th>\n",
       "      <th>MID_N2EX_VOLUME(MWh)</th>\n",
       "      <th>MID_N2EX_PRICE(GBP/MWh)</th>\n",
       "      <th>SSP_(GBP/MWh)</th>\n",
       "      <th>NIV(MWh)</th>\n",
       "      <th>...</th>\n",
       "      <th>Quarter</th>\n",
       "      <th>Month</th>\n",
       "      <th>Day</th>\n",
       "      <th>WeekNumber</th>\n",
       "      <th>DaysOfTheYear</th>\n",
       "      <th>DayOfTheWeek</th>\n",
       "      <th>Hour</th>\n",
       "      <th>Seasons</th>\n",
       "      <th>WeekDay_OR_Weekend</th>\n",
       "      <th>PublicHoliday</th>\n",
       "    </tr>\n",
       "  </thead>\n",
       "  <tbody>\n",
       "    <tr>\n",
       "      <th>96282</th>\n",
       "      <td>2019-12-26 18:00:00+00:00</td>\n",
       "      <td>7867.3358</td>\n",
       "      <td>17.18</td>\n",
       "      <td>17.18</td>\n",
       "      <td>1185.525</td>\n",
       "      <td>40.305</td>\n",
       "      <td>0.0</td>\n",
       "      <td>0.0</td>\n",
       "      <td>17.18</td>\n",
       "      <td>-181.904</td>\n",
       "      <td>...</td>\n",
       "      <td>4</td>\n",
       "      <td>12</td>\n",
       "      <td>26</td>\n",
       "      <td>52</td>\n",
       "      <td>360</td>\n",
       "      <td>3</td>\n",
       "      <td>18</td>\n",
       "      <td>Winter</td>\n",
       "      <td>Weekday</td>\n",
       "      <td>Boxing Day</td>\n",
       "    </tr>\n",
       "  </tbody>\n",
       "</table>\n",
       "<p>1 rows × 84 columns</p>\n",
       "</div>"
      ],
      "text/plain": [
       "                       DATETIME  MC_StartingVolume  SBP(GBP/MWh)  \\\n",
       "96282 2019-12-26 18:00:00+00:00          7867.3358         17.18   \n",
       "\n",
       "       SSP(GBP/MWh)  MID_APX_VOLUME(MWh)  MID_APX_PRICE(GBP/MWh)  \\\n",
       "96282         17.18             1185.525                  40.305   \n",
       "\n",
       "       MID_N2EX_VOLUME(MWh)  MID_N2EX_PRICE(GBP/MWh)  SSP_(GBP/MWh)  NIV(MWh)  \\\n",
       "96282                   0.0                      0.0          17.18  -181.904   \n",
       "\n",
       "       ...  Quarter  Month  Day  WeekNumber  DaysOfTheYear  DayOfTheWeek  \\\n",
       "96282  ...        4     12   26          52            360             3   \n",
       "\n",
       "       Hour  Seasons  WeekDay_OR_Weekend  PublicHoliday  \n",
       "96282    18   Winter             Weekday     Boxing Day  \n",
       "\n",
       "[1 rows x 84 columns]"
      ]
     },
     "execution_count": 28,
     "metadata": {},
     "output_type": "execute_result"
    }
   ],
   "source": [
    "HourlyDF.loc[(HourlyDF['Year'] == 2019) & (HourlyDF['Month'] == 12) & (HourlyDF['Day'] == 26) & (HourlyDF['Hour'] == 18)]"
   ]
  },
  {
   "cell_type": "code",
   "execution_count": 29,
   "id": "e913e6c9-777d-4f81-8e61-a4a4d8ba10f4",
   "metadata": {},
   "outputs": [
    {
     "data": {
      "text/plain": [
       "{'Boxing Day',\n",
       " 'Christmas Day',\n",
       " 'Easter Monday',\n",
       " 'Good Friday',\n",
       " 'Late Summer Bank Holiday',\n",
       " 'May Day',\n",
       " 'New Year Holiday',\n",
       " \"New Year's Day\",\n",
       " 'Platinum Jubilee of Elizabeth II',\n",
       " 'Spring Bank Holiday',\n",
       " \"St. Andrew's Day\",\n",
       " 'State Funeral of Queen Elizabeth II',\n",
       " 'Summer Bank Holiday'}"
      ]
     },
     "execution_count": 29,
     "metadata": {},
     "output_type": "execute_result"
    }
   ],
   "source": [
    "UniqueHolidays = set()\n",
    "for key,value in AllHolidays.items():\n",
    "    UniqueHolidays.add(value)\n",
    "UniqueHolidays"
   ]
  },
  {
   "cell_type": "code",
   "execution_count": 30,
   "id": "5a1d3889-ab42-4e70-af4c-e6667778de7b",
   "metadata": {},
   "outputs": [
    {
     "data": {
      "text/plain": [
       "13"
      ]
     },
     "execution_count": 30,
     "metadata": {},
     "output_type": "execute_result"
    }
   ],
   "source": [
    "len(UniqueHolidays)"
   ]
  },
  {
   "cell_type": "code",
   "execution_count": null,
   "id": "9082ad8d-61c5-47fa-af05-1f3027ca6715",
   "metadata": {},
   "outputs": [],
   "source": []
  }
 ],
 "metadata": {
  "kernelspec": {
   "display_name": "Python 3 (ipykernel)",
   "language": "python",
   "name": "python3"
  },
  "language_info": {
   "codemirror_mode": {
    "name": "ipython",
    "version": 3
   },
   "file_extension": ".py",
   "mimetype": "text/x-python",
   "name": "python",
   "nbconvert_exporter": "python",
   "pygments_lexer": "ipython3",
   "version": "3.10.9"
  }
 },
 "nbformat": 4,
 "nbformat_minor": 5
}
