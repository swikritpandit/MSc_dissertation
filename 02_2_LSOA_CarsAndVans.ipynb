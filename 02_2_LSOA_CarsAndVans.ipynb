{
 "cells": [
  {
   "cell_type": "code",
   "execution_count": 1,
   "id": "d1ca1b9c-2141-4884-8fbc-5fa8bfed96c7",
   "metadata": {},
   "outputs": [],
   "source": [
    "import pandas as pd\n",
    "import numpy as np\n",
    "from tqdm import tqdm\n",
    "from matplotlib import pyplot as plt\n",
    "import seaborn as sns\n",
    "import geopandas as gpd"
   ]
  },
  {
   "cell_type": "code",
   "execution_count": 2,
   "id": "563a05ba-74d9-499b-b8b6-95ec845e3663",
   "metadata": {},
   "outputs": [],
   "source": [
    "Data = pd.read_csv(\"./Source/CarOR_VanAvailability_LSOA_AnalysisCombined.csv\",index_col=['PowerLiftRatio,Perc','Lower layer Super Output Areas Code'])\n",
    "# CSV file taken from 'https://www.ons.gov.uk/datasets/TS045/editions/2021/versions/4/filter-outputs/21f5ef3b-68bf-44ee-b610-f654febc6e8d#get-data'"
   ]
  },
  {
   "cell_type": "code",
   "execution_count": 3,
   "id": "0c7d8c17-2267-4e81-8a31-e715f300c06b",
   "metadata": {},
   "outputs": [
    {
     "name": "stdout",
     "output_type": "stream",
     "text": [
      "<class 'pandas.core.frame.DataFrame'>\n",
      "MultiIndex: 1284192 entries, (100, 'E01000001') to (170, 'W01002040')\n",
      "Data columns (total 11 columns):\n",
      " #   Column                               Non-Null Count    Dtype  \n",
      "---  ------                               --------------    -----  \n",
      " 0   1 car or van in household            1284192 non-null  int64  \n",
      " 1   2 cars or vans in household          1284192 non-null  int64  \n",
      " 2   3 or more cars or vans in household  1284192 non-null  int64  \n",
      " 3   No cars or vans in household         1284192 non-null  int64  \n",
      " 4   TotalHousehold                       1284192 non-null  int64  \n",
      " 5   TotalCars                            1284192 non-null  int64  \n",
      " 6   PowerProfile_kWe                     1284192 non-null  object \n",
      " 7   NumberOfCars                         1284192 non-null  object \n",
      " 8   TotalCarsCharged                     1284192 non-null  float64\n",
      " 9   EV_SufficiencyFlag                   1284192 non-null  object \n",
      " 10  EV_ChargingPenetrationRate           1284192 non-null  float64\n",
      "dtypes: float64(2), int64(6), object(3)\n",
      "memory usage: 1.4 GB\n"
     ]
    }
   ],
   "source": [
    "Data.info(memory_usage='deep')"
   ]
  },
  {
   "cell_type": "code",
   "execution_count": 4,
   "id": "e171e4e2-9c03-4083-a7aa-80d8b7fb0666",
   "metadata": {},
   "outputs": [],
   "source": [
    "DropColumns = ['1 car or van in household', '2 cars or vans in household','3 or more cars or vans in household', 'No cars or vans in household',\n",
    "                'TotalHousehold', 'TotalCars', 'PowerProfile_kWe', 'NumberOfCars','TotalCarsCharged', 'EV_SufficiencyFlag']\n",
    "Data.drop(columns=DropColumns,inplace=True)"
   ]
  },
  {
   "cell_type": "code",
   "execution_count": 5,
   "id": "35573511-04d5-4893-b680-5eb7539423bb",
   "metadata": {},
   "outputs": [
    {
     "name": "stdout",
     "output_type": "stream",
     "text": [
      "<class 'pandas.core.frame.DataFrame'>\n",
      "MultiIndex: 1284192 entries, (100, 'E01000001') to (170, 'W01002040')\n",
      "Data columns (total 1 columns):\n",
      " #   Column                      Non-Null Count    Dtype  \n",
      "---  ------                      --------------    -----  \n",
      " 0   EV_ChargingPenetrationRate  1284192 non-null  float64\n",
      "dtypes: float64(1)\n",
      "memory usage: 19.2 MB\n"
     ]
    }
   ],
   "source": [
    "Data.info(memory_usage='deep')"
   ]
  },
  {
   "cell_type": "code",
   "execution_count": 6,
   "id": "694bfaeb-b8a2-4581-9b91-acc6e63a7f01",
   "metadata": {},
   "outputs": [
    {
     "data": {
      "text/html": [
       "<div>\n",
       "<style scoped>\n",
       "    .dataframe tbody tr th:only-of-type {\n",
       "        vertical-align: middle;\n",
       "    }\n",
       "\n",
       "    .dataframe tbody tr th {\n",
       "        vertical-align: top;\n",
       "    }\n",
       "\n",
       "    .dataframe thead th {\n",
       "        text-align: right;\n",
       "    }\n",
       "</style>\n",
       "<table border=\"1\" class=\"dataframe\">\n",
       "  <thead>\n",
       "    <tr style=\"text-align: right;\">\n",
       "      <th></th>\n",
       "      <th>LSOA_21_Code</th>\n",
       "      <th>geometry</th>\n",
       "    </tr>\n",
       "  </thead>\n",
       "  <tbody>\n",
       "    <tr>\n",
       "      <th>0</th>\n",
       "      <td>E01000001</td>\n",
       "      <td>POLYGON ((532151.537 181867.433, 532152.500 18...</td>\n",
       "    </tr>\n",
       "    <tr>\n",
       "      <th>1</th>\n",
       "      <td>E01000002</td>\n",
       "      <td>POLYGON ((532634.497 181926.016, 532632.048 18...</td>\n",
       "    </tr>\n",
       "    <tr>\n",
       "      <th>2</th>\n",
       "      <td>E01000003</td>\n",
       "      <td>POLYGON ((532153.703 182165.155, 532158.250 18...</td>\n",
       "    </tr>\n",
       "    <tr>\n",
       "      <th>3</th>\n",
       "      <td>E01000005</td>\n",
       "      <td>POLYGON ((533619.062 181402.364, 533639.868 18...</td>\n",
       "    </tr>\n",
       "    <tr>\n",
       "      <th>4</th>\n",
       "      <td>E01000006</td>\n",
       "      <td>POLYGON ((545126.852 184310.838, 545145.213 18...</td>\n",
       "    </tr>\n",
       "  </tbody>\n",
       "</table>\n",
       "</div>"
      ],
      "text/plain": [
       "  LSOA_21_Code                                           geometry\n",
       "0    E01000001  POLYGON ((532151.537 181867.433, 532152.500 18...\n",
       "1    E01000002  POLYGON ((532634.497 181926.016, 532632.048 18...\n",
       "2    E01000003  POLYGON ((532153.703 182165.155, 532158.250 18...\n",
       "3    E01000005  POLYGON ((533619.062 181402.364, 533639.868 18...\n",
       "4    E01000006  POLYGON ((545126.852 184310.838, 545145.213 18..."
      ]
     },
     "execution_count": 6,
     "metadata": {},
     "output_type": "execute_result"
    }
   ],
   "source": [
    "SHAPEFILE = './ShapeFiles/Lower_layer_Super_Output_Areas_2021_EW_BFE_V9_-9107090204806789093/LSOA_2021_EW_BFE_V9.shp'\n",
    "GeoDF = gpd.read_file(SHAPEFILE)[['LSOA21CD', 'geometry']]\n",
    "SHAPEFILE = 0\n",
    "GeoDF.columns = ['LSOA_21_Code', 'geometry']\n",
    "GeoDF.head()"
   ]
  },
  {
   "cell_type": "code",
   "execution_count": 7,
   "id": "b32be37e-f7a5-40a7-a65a-d565fbe8ddf1",
   "metadata": {},
   "outputs": [
    {
     "name": "stdout",
     "output_type": "stream",
     "text": [
      "<class 'geopandas.geodataframe.GeoDataFrame'>\n",
      "RangeIndex: 35672 entries, 0 to 35671\n",
      "Data columns (total 2 columns):\n",
      " #   Column        Non-Null Count  Dtype   \n",
      "---  ------        --------------  -----   \n",
      " 0   LSOA_21_Code  35672 non-null  object  \n",
      " 1   geometry      35672 non-null  geometry\n",
      "dtypes: geometry(1), object(1)\n",
      "memory usage: 2.5 MB\n"
     ]
    }
   ],
   "source": [
    "GeoDF.info(memory_usage='deep')"
   ]
  },
  {
   "cell_type": "code",
   "execution_count": 11,
   "id": "094fb3e4-64a8-4bc1-b4fb-35e40bcd7e91",
   "metadata": {},
   "outputs": [],
   "source": [
    "# EVPenetrationRateBins = np.arange(0,101,10)\n",
    "# s = Data.loc[120][\"EV_ChargingPenetrationRate\"].value_counts(bins=EVPenetrationRateBins,sort=False)"
   ]
  },
  {
   "cell_type": "code",
   "execution_count": 12,
   "id": "2c919f89-fe28-487a-8ba7-499f0271a8b3",
   "metadata": {},
   "outputs": [],
   "source": [
    "# sdf = pd.DataFrame(s).transpose()\n",
    "# sdf"
   ]
  },
  {
   "cell_type": "code",
   "execution_count": 13,
   "id": "97d968dd-c342-463e-b680-0cb56d9f5805",
   "metadata": {},
   "outputs": [],
   "source": [
    "def PlotFigure(DF,UpLift):\n",
    "    Title = f'EV charging penetration LSOA\\nPower Uplift of +{UpLift-100}%.'\n",
    "    col = 'EV_ChargingPenetrationRate'\n",
    "    vmin = DF[col].min()\n",
    "    vmax = DF[col].max()\n",
    "    cmap = 'RdYlGn'\n",
    "    fig, ax = plt.subplots(1,figsize=(9,16),dpi=1000)\n",
    "    ax.axis('off')\n",
    "    DF.plot(column=col, ax=ax, edgecolor='white', linewidth=0.01, cmap=cmap)\n",
    "    ax.set_title(Title, fontdict={'fontsize': '14', 'fontweight': '3'})# Add a title\n",
    "    sm = plt.cm.ScalarMappable(norm=plt.Normalize(vmin=0, vmax=100), cmap=cmap)# Create colorbar as a legend\n",
    "    # Empty array for the data range\n",
    "    sm._A = []\n",
    "    cbaxes = fig.add_axes([0.18,0.35,0.02,0.2])\n",
    "    cbar = fig.colorbar(sm, cax=cbaxes)\n",
    "    plt.savefig(f\"./Pictures/EV_Charging_Penetration_LSOA_{UpLift}.png\")\n",
    "    plt.close('all')"
   ]
  },
  {
   "cell_type": "code",
   "execution_count": 14,
   "id": "5eb9aec3-3e9e-41fe-9826-bd557c9c756f",
   "metadata": {},
   "outputs": [],
   "source": [
    "PowerLifts = set()\n",
    "for item in Data.index:\n",
    "    PowerLifts.add(item[0])\n",
    "PowerLifts = sorted(PowerLifts)"
   ]
  },
  {
   "cell_type": "code",
   "execution_count": 26,
   "id": "3dcfe3f9-049f-4087-b0ee-9e6c148bba57",
   "metadata": {},
   "outputs": [
    {
     "name": "stderr",
     "output_type": "stream",
     "text": [
      "100%|████████████████████████████████████████████████████████████████████| 7/7 [03:25<00:00, 29.31s/it]\n"
     ]
    }
   ],
   "source": [
    "for ChargeUpLift in tqdm(PowerLifts[0::5]):\n",
    "    SelectedData = Data.loc[ChargeUpLift].reset_index()\n",
    "    MergedDF = pd.merge(left=GeoDF, right=SelectedData, how='left', left_on='LSOA_21_Code', right_on='Lower layer Super Output Areas Code')\n",
    "    DropColumns = ['Lower layer Super Output Areas Code']\n",
    "    MergedDF.drop(columns=DropColumns,inplace=True)\n",
    "    PlotFigure(MergedDF,ChargeUpLift)"
   ]
  },
  {
   "cell_type": "code",
   "execution_count": null,
   "id": "3eb1d2da-17de-4b94-9069-8530173150d5",
   "metadata": {},
   "outputs": [],
   "source": []
  }
 ],
 "metadata": {
  "kernelspec": {
   "display_name": "Python 3 (ipykernel)",
   "language": "python",
   "name": "python3"
  },
  "language_info": {
   "codemirror_mode": {
    "name": "ipython",
    "version": 3
   },
   "file_extension": ".py",
   "mimetype": "text/x-python",
   "name": "python",
   "nbconvert_exporter": "python",
   "pygments_lexer": "ipython3",
   "version": "3.10.9"
  }
 },
 "nbformat": 4,
 "nbformat_minor": 5
}
