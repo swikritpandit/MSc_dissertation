{
 "cells": [
  {
   "cell_type": "code",
   "execution_count": 1,
   "id": "d1ca1b9c-2141-4884-8fbc-5fa8bfed96c7",
   "metadata": {},
   "outputs": [],
   "source": [
    "import pandas as pd\n",
    "import numpy as np\n",
    "from tqdm import tqdm\n",
    "from matplotlib import pyplot as plt\n",
    "import seaborn as sns\n",
    "import geopandas as gpd\n",
    "import gc"
   ]
  },
  {
   "cell_type": "code",
   "execution_count": 2,
   "id": "563a05ba-74d9-499b-b8b6-95ec845e3663",
   "metadata": {},
   "outputs": [],
   "source": [
    "Data = pd.read_csv(\"./Source/CarOR_VanAvailability_MSOA_AnalysisCombined.csv\",index_col=['PowerLiftRatio,Perc','Middle layer Super Output Areas Code'])\n",
    "# CSV file taken from 'https://www.ons.gov.uk/datasets/TS045/editions/2021/versions/4/filter-outputs/21f5ef3b-68bf-44ee-b610-f654febc6e8d#get-data'"
   ]
  },
  {
   "cell_type": "code",
   "execution_count": 3,
   "id": "60122293-59b3-448f-b736-c291bb079784",
   "metadata": {},
   "outputs": [
    {
     "name": "stdout",
     "output_type": "stream",
     "text": [
      "<class 'pandas.core.frame.DataFrame'>\n",
      "MultiIndex: 261504 entries, (100, 'E02000001') to (170, 'W02000428')\n",
      "Data columns (total 11 columns):\n",
      " #   Column                               Non-Null Count   Dtype  \n",
      "---  ------                               --------------   -----  \n",
      " 0   1 car or van in household            261504 non-null  int64  \n",
      " 1   2 cars or vans in household          261504 non-null  int64  \n",
      " 2   3 or more cars or vans in household  261504 non-null  int64  \n",
      " 3   No cars or vans in household         261504 non-null  int64  \n",
      " 4   TotalHousehold                       261504 non-null  int64  \n",
      " 5   TotalCars                            261504 non-null  int64  \n",
      " 6   PowerProfile_kWe                     261504 non-null  object \n",
      " 7   NumberOfCars                         261504 non-null  object \n",
      " 8   TotalCarsCharged                     261504 non-null  float64\n",
      " 9   EV_SufficiencyFlag                   261504 non-null  object \n",
      " 10  EV_ChargingPenetrationRate           261504 non-null  float64\n",
      "dtypes: float64(2), int64(6), object(3)\n",
      "memory usage: 292.7 MB\n"
     ]
    }
   ],
   "source": [
    "Data.info(memory_usage='deep')"
   ]
  },
  {
   "cell_type": "code",
   "execution_count": 4,
   "id": "2e99e6ad-a894-4199-a96f-7707f913483b",
   "metadata": {},
   "outputs": [],
   "source": [
    "DropColumns = ['1 car or van in household', '2 cars or vans in household','3 or more cars or vans in household', 'No cars or vans in household',\n",
    "                'TotalHousehold', 'TotalCars', 'PowerProfile_kWe', 'NumberOfCars','TotalCarsCharged', 'EV_SufficiencyFlag']\n",
    "Data.drop(columns=DropColumns,inplace=True)"
   ]
  },
  {
   "cell_type": "code",
   "execution_count": 5,
   "id": "cb97f4b8-76bd-42bb-bdc1-83dbe68c0906",
   "metadata": {},
   "outputs": [
    {
     "data": {
      "text/plain": [
       "0"
      ]
     },
     "execution_count": 5,
     "metadata": {},
     "output_type": "execute_result"
    }
   ],
   "source": [
    "gc.collect()"
   ]
  },
  {
   "cell_type": "code",
   "execution_count": 6,
   "id": "e04c1bb6-8608-422a-8449-ae8ff3657e46",
   "metadata": {},
   "outputs": [
    {
     "name": "stdout",
     "output_type": "stream",
     "text": [
      "<class 'pandas.core.frame.DataFrame'>\n",
      "MultiIndex: 261504 entries, (100, 'E02000001') to (170, 'W02000428')\n",
      "Data columns (total 1 columns):\n",
      " #   Column                      Non-Null Count   Dtype  \n",
      "---  ------                      --------------   -----  \n",
      " 0   EV_ChargingPenetrationRate  261504 non-null  float64\n",
      "dtypes: float64(1)\n",
      "memory usage: 3.5 MB\n"
     ]
    }
   ],
   "source": [
    "Data.info(memory_usage='deep')"
   ]
  },
  {
   "cell_type": "code",
   "execution_count": 7,
   "id": "694bfaeb-b8a2-4581-9b91-acc6e63a7f01",
   "metadata": {},
   "outputs": [
    {
     "data": {
      "text/html": [
       "<div>\n",
       "<style scoped>\n",
       "    .dataframe tbody tr th:only-of-type {\n",
       "        vertical-align: middle;\n",
       "    }\n",
       "\n",
       "    .dataframe tbody tr th {\n",
       "        vertical-align: top;\n",
       "    }\n",
       "\n",
       "    .dataframe thead th {\n",
       "        text-align: right;\n",
       "    }\n",
       "</style>\n",
       "<table border=\"1\" class=\"dataframe\">\n",
       "  <thead>\n",
       "    <tr style=\"text-align: right;\">\n",
       "      <th></th>\n",
       "      <th>MSOA_21_Code</th>\n",
       "      <th>geometry</th>\n",
       "    </tr>\n",
       "  </thead>\n",
       "  <tbody>\n",
       "    <tr>\n",
       "      <th>0</th>\n",
       "      <td>E02000001</td>\n",
       "      <td>POLYGON ((532153.703 182165.155, 532158.250 18...</td>\n",
       "    </tr>\n",
       "    <tr>\n",
       "      <th>1</th>\n",
       "      <td>E02000002</td>\n",
       "      <td>POLYGON ((548881.304 190819.980, 548881.125 19...</td>\n",
       "    </tr>\n",
       "    <tr>\n",
       "      <th>2</th>\n",
       "      <td>E02000003</td>\n",
       "      <td>POLYGON ((548958.555 189072.176, 548954.517 18...</td>\n",
       "    </tr>\n",
       "    <tr>\n",
       "      <th>3</th>\n",
       "      <td>E02000004</td>\n",
       "      <td>POLYGON ((551550.056 187364.705, 551528.633 18...</td>\n",
       "    </tr>\n",
       "    <tr>\n",
       "      <th>4</th>\n",
       "      <td>E02000005</td>\n",
       "      <td>POLYGON ((549237.051 187627.941, 549241.319 18...</td>\n",
       "    </tr>\n",
       "  </tbody>\n",
       "</table>\n",
       "</div>"
      ],
      "text/plain": [
       "  MSOA_21_Code                                           geometry\n",
       "0    E02000001  POLYGON ((532153.703 182165.155, 532158.250 18...\n",
       "1    E02000002  POLYGON ((548881.304 190819.980, 548881.125 19...\n",
       "2    E02000003  POLYGON ((548958.555 189072.176, 548954.517 18...\n",
       "3    E02000004  POLYGON ((551550.056 187364.705, 551528.633 18...\n",
       "4    E02000005  POLYGON ((549237.051 187627.941, 549241.319 18..."
      ]
     },
     "execution_count": 7,
     "metadata": {},
     "output_type": "execute_result"
    }
   ],
   "source": [
    "SHAPEFILE = './ShapeFiles/MSOA_2021_EW_BFE_V7_-121704356585247693/MSOA_2021_EW_BFE_V7.shp'\n",
    "GeoDF = gpd.read_file(SHAPEFILE)[['MSOA21CD', 'geometry']]\n",
    "GeoDF.columns = ['MSOA_21_Code', 'geometry']\n",
    "GeoDF.head()"
   ]
  },
  {
   "cell_type": "code",
   "execution_count": 8,
   "id": "9bf13961-3c1e-448d-becd-312bd9568547",
   "metadata": {},
   "outputs": [
    {
     "data": {
      "text/plain": [
       "0"
      ]
     },
     "execution_count": 8,
     "metadata": {},
     "output_type": "execute_result"
    }
   ],
   "source": [
    "gc.collect()"
   ]
  },
  {
   "cell_type": "code",
   "execution_count": 9,
   "id": "857da46e-f171-46eb-a8de-aa2d9e9f9097",
   "metadata": {},
   "outputs": [
    {
     "name": "stdout",
     "output_type": "stream",
     "text": [
      "<class 'geopandas.geodataframe.GeoDataFrame'>\n",
      "RangeIndex: 7264 entries, 0 to 7263\n",
      "Data columns (total 2 columns):\n",
      " #   Column        Non-Null Count  Dtype   \n",
      "---  ------        --------------  -----   \n",
      " 0   MSOA_21_Code  7264 non-null   object  \n",
      " 1   geometry      7264 non-null   geometry\n",
      "dtypes: geometry(1), object(1)\n",
      "memory usage: 525.1 KB\n"
     ]
    }
   ],
   "source": [
    "GeoDF.info(memory_usage='deep')"
   ]
  },
  {
   "cell_type": "code",
   "execution_count": 10,
   "id": "094fb3e4-64a8-4bc1-b4fb-35e40bcd7e91",
   "metadata": {},
   "outputs": [],
   "source": [
    "# EVPenetrationRateBins = np.arange(0,101,10)\n",
    "# s = Data.loc[120][\"EV_ChargingPenetrationRate\"].value_counts(bins=EVPenetrationRateBins,sort=False)"
   ]
  },
  {
   "cell_type": "code",
   "execution_count": 11,
   "id": "2c919f89-fe28-487a-8ba7-499f0271a8b3",
   "metadata": {},
   "outputs": [],
   "source": [
    "# sdf = pd.DataFrame(s).transpose()\n",
    "# sdf"
   ]
  },
  {
   "cell_type": "code",
   "execution_count": 12,
   "id": "97d968dd-c342-463e-b680-0cb56d9f5805",
   "metadata": {},
   "outputs": [],
   "source": [
    "def PlotFigure(DF,UpLift):\n",
    "    Title = f'EV charging penetration MSOA\\nPower Uplift of +{UpLift-100}%.'\n",
    "    col = 'EV_ChargingPenetrationRate'\n",
    "    vmin = DF[col].min()\n",
    "    vmax = DF[col].max()\n",
    "    cmap = 'RdYlGn'\n",
    "    fig, ax = plt.subplots(1,figsize=(9,16),dpi=1500)\n",
    "    ax.axis('off')\n",
    "    DF.plot(column=col, ax=ax, edgecolor='white', linewidth=0.01, cmap=cmap)\n",
    "    ax.set_title(Title, fontdict={'fontsize': '14', 'fontweight': '3'})# Add a title\n",
    "    sm = plt.cm.ScalarMappable(norm=plt.Normalize(vmin=0, vmax=100), cmap=cmap)# Create colorbar as a legend\n",
    "    # Empty array for the data range\n",
    "    sm._A = []\n",
    "    cbaxes = fig.add_axes([0.18,0.35,0.02,0.2])\n",
    "    cbar = fig.colorbar(sm, cax=cbaxes)\n",
    "    plt.savefig(f\"./Pictures/EV_Charging_Penetration_MSOA_{UpLift}.png\")\n",
    "    plt.close('all')\n",
    "    gc.collect()"
   ]
  },
  {
   "cell_type": "code",
   "execution_count": 13,
   "id": "5eb9aec3-3e9e-41fe-9826-bd557c9c756f",
   "metadata": {},
   "outputs": [],
   "source": [
    "PowerLifts = set()\n",
    "for item in Data.index:\n",
    "    PowerLifts.add(item[0])\n",
    "PowerLifts = sorted(PowerLifts)"
   ]
  },
  {
   "cell_type": "code",
   "execution_count": 17,
   "id": "3dcfe3f9-049f-4087-b0ee-9e6c148bba57",
   "metadata": {},
   "outputs": [
    {
     "name": "stderr",
     "output_type": "stream",
     "text": [
      "100%|████████████████████████████████████████████████████████████████████| 7/7 [02:35<00:00, 22.17s/it]\n"
     ]
    }
   ],
   "source": [
    "gc.collect()\n",
    "for ChargeUpLift in tqdm(PowerLifts[4::5]):\n",
    "    SelectedData = Data.loc[ChargeUpLift].reset_index()\n",
    "    MergedDF = pd.merge(left=GeoDF, right=SelectedData, how='left', left_on='MSOA_21_Code', right_on='Middle layer Super Output Areas Code')\n",
    "    DropColumns = ['Middle layer Super Output Areas Code']\n",
    "    MergedDF.drop(columns=DropColumns,inplace=True)\n",
    "    PlotFigure(MergedDF,ChargeUpLift)\n",
    "    gc.collect()"
   ]
  },
  {
   "cell_type": "code",
   "execution_count": null,
   "id": "3eb1d2da-17de-4b94-9069-8530173150d5",
   "metadata": {},
   "outputs": [],
   "source": []
  }
 ],
 "metadata": {
  "kernelspec": {
   "display_name": "Python 3 (ipykernel)",
   "language": "python",
   "name": "python3"
  },
  "language_info": {
   "codemirror_mode": {
    "name": "ipython",
    "version": 3
   },
   "file_extension": ".py",
   "mimetype": "text/x-python",
   "name": "python",
   "nbconvert_exporter": "python",
   "pygments_lexer": "ipython3",
   "version": "3.9.13"
  }
 },
 "nbformat": 4,
 "nbformat_minor": 5
}
